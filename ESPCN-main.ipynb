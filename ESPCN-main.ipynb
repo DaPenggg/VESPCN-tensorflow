{
 "cells": [
  {
   "cell_type": "code",
   "execution_count": 32,
   "metadata": {},
   "outputs": [],
   "source": [
    "import numpy as np\n",
    "import tensorflow as tf\n",
    "import os\n",
    "import scipy.misc\n",
    "from easydict import EasyDict as edict\n",
    "from models.ESPCN import *\n",
    "from utils import *\n",
    "from ops import *\n",
    "from dataloader import *\n",
    "\n",
    "%reload_ext autoreload\n",
    "%autoreload 2\n",
    "\n",
    "config = edict()\n",
    "# training parameters\n",
    "config.batch_size = 64\n",
    "config.patch_size = 17 # patch size in LR domain (in HR domain it should be multiplied by scale)\n",
    "config.mode = \"YCbCr\" #YCbCr\n",
    "config.channels = 1\n",
    "config.scale = 3\n",
    "config.learning_rate = 1e-4\n",
    "config.augmentation = True #data augmentation (flip, rotation)\n",
    "\n",
    "config.epochs = 500\n",
    "config.test_every = 1\n",
    "config.repeat = 100\n",
    "\n",
    "config.model_name = \"ESPCN\"\n",
    "\n",
    "# directories\n",
    "config.dataset_name = \"DIV2K\"\n",
    "config.testset_name = \"Set5\"#\"Set5\"\n",
    "config.train_path_LR = os.path.join(\"/home/johnyi/deeplearning/research/SISR_Datasets/train/\",\"%s_LR/*.png\" %str(config.dataset_name))\n",
    "config.train_path_HR = os.path.join(\"/home/johnyi/deeplearning/research/SISR_Datasets/train/\",str(config.dataset_name),\"*.png\")\n",
    "config.valid_path_HR = os.path.join(\"/home/johnyi/deeplearning/research/SISR_Datasets/vaild/\",str(config.dataset_name),\"*.png\")\n",
    "\n",
    "config.test_path_HR = os.path.join(\"/home/johnyi/deeplearning/research/SISR_Datasets/test/%s/HR/*.png\" %str(config.testset_name))\n",
    "config.test_path_LR = os.path.join(\"/home/johnyi/deeplearning/research/SISR_Datasets/test/%s/LR/*.png\" %str(config.testset_name))\n",
    "\n",
    "config.result_dir = os.path.join(\"./result\", config.model_name)\n",
    "config.result_img_dir = os.path.join(config.result_dir, \"images\", config.testset_name)\n",
    "config.checkpoint_dir = os.path.join(config.result_dir, \"model\")\n",
    "\n",
    "if not os.path.exists(config.checkpoint_dir):\n",
    "    print(\"creating dir...\", config.checkpoint_dir)\n",
    "    os.makedirs(config.checkpoint_dir)\n",
    "if not os.path.exists(config.result_dir):\n",
    "    print(\"creating dir...\", config.result_dir)\n",
    "    os.makedirs(config.result_dir)\n",
    "if not os.path.exists(config.result_img_dir):\n",
    "    print(\"creating dir...\", config.result_img_dir)\n",
    "    os.makedirs(config.result_img_dir)"
   ]
  },
  {
   "cell_type": "code",
   "execution_count": 2,
   "metadata": {},
   "outputs": [
    {
     "name": "stdout",
     "output_type": "stream",
     "text": [
      "Dataset: DIV2K, 900 images\n",
      "loading 900 LR images...\n",
      "loading 900 HR images...\n",
      "900 image pairs loaded! setting took: 74.8470s\n"
     ]
    }
   ],
   "source": [
    "# load dataset\n",
    "dataset_LR, dataset_HR = load_dataset(config)"
   ]
  },
  {
   "cell_type": "code",
   "execution_count": 33,
   "metadata": {},
   "outputs": [
    {
     "name": "stdout",
     "output_type": "stream",
     "text": [
      "Creating ESPCNx3\n",
      "Completed building network. Number of variables: 8\n"
     ]
    }
   ],
   "source": [
    "# build model\n",
    "tf.reset_default_graph()\n",
    "# uncomment this when only trying to test the model\n",
    "#dataset_LR = []\n",
    "#dataset_HR = []\n",
    "sess = tf.Session()\n",
    "model = ESPCN(sess, config, dataset_LR, dataset_HR)"
   ]
  },
  {
   "cell_type": "code",
   "execution_count": 34,
   "metadata": {},
   "outputs": [
    {
     "name": "stdout",
     "output_type": "stream",
     "text": [
      "Overall training starts from beginning\n",
      "Number of images: 900, batch size: 64, num_repeat: 100 --> each epoch consists of 1406 iterations\n",
      "------Epoch 1, runtime: 35.486 s, loss: 0.001900\n",
      "Test PSNR: 30.396 (best: 30.396 at epoch 1), bicubic: 30.403\n",
      "------Epoch 2, runtime: 72.972 s, loss: 0.001658\n",
      "Test PSNR: 31.045 (best: 31.045 at epoch 2), bicubic: 30.403\n",
      "------Epoch 3, runtime: 110.365 s, loss: 0.001820\n",
      "Test PSNR: 31.199 (best: 31.199 at epoch 3), bicubic: 30.403\n",
      "------Epoch 4, runtime: 148.061 s, loss: 0.001405\n",
      "Test PSNR: 31.284 (best: 31.284 at epoch 4), bicubic: 30.403\n",
      "------Epoch 5, runtime: 185.661 s, loss: 0.001608\n",
      "Test PSNR: 31.351 (best: 31.351 at epoch 5), bicubic: 30.403\n",
      "------Epoch 6, runtime: 223.555 s, loss: 0.001530\n",
      "Test PSNR: 31.389 (best: 31.389 at epoch 6), bicubic: 30.403\n",
      "------Epoch 7, runtime: 262.486 s, loss: 0.001401\n",
      "Test PSNR: 31.468 (best: 31.468 at epoch 7), bicubic: 30.403\n",
      "------Epoch 8, runtime: 300.728 s, loss: 0.000950\n",
      "Test PSNR: 31.533 (best: 31.533 at epoch 8), bicubic: 30.403\n",
      "------Epoch 9, runtime: 338.989 s, loss: 0.001543\n",
      "Test PSNR: 31.593 (best: 31.593 at epoch 9), bicubic: 30.403\n",
      "------Epoch 10, runtime: 377.173 s, loss: 0.001129\n",
      "Test PSNR: 31.657 (best: 31.657 at epoch 10), bicubic: 30.403\n",
      "------Epoch 11, runtime: 415.725 s, loss: 0.001314\n",
      "Test PSNR: 31.698 (best: 31.698 at epoch 11), bicubic: 30.403\n",
      "------Epoch 12, runtime: 454.238 s, loss: 0.000803\n",
      "Test PSNR: 31.753 (best: 31.753 at epoch 12), bicubic: 30.403\n",
      "------Epoch 13, runtime: 492.588 s, loss: 0.001210\n",
      "Test PSNR: 31.792 (best: 31.792 at epoch 13), bicubic: 30.403\n",
      "------Epoch 14, runtime: 530.838 s, loss: 0.001253\n",
      "Test PSNR: 31.814 (best: 31.814 at epoch 14), bicubic: 30.403\n",
      "------Epoch 15, runtime: 569.746 s, loss: 0.001082\n",
      "Test PSNR: 31.868 (best: 31.868 at epoch 15), bicubic: 30.403\n",
      "------Epoch 16, runtime: 608.374 s, loss: 0.001135\n",
      "Test PSNR: 31.913 (best: 31.913 at epoch 16), bicubic: 30.403\n",
      "------Epoch 17, runtime: 646.845 s, loss: 0.001275\n",
      "Test PSNR: 31.935 (best: 31.935 at epoch 17), bicubic: 30.403\n",
      "------Epoch 18, runtime: 685.417 s, loss: 0.001236\n",
      "Test PSNR: 31.979 (best: 31.979 at epoch 18), bicubic: 30.403\n",
      "------Epoch 19, runtime: 723.915 s, loss: 0.000917\n",
      "Test PSNR: 32.019 (best: 32.019 at epoch 19), bicubic: 30.403\n",
      "------Epoch 20, runtime: 762.485 s, loss: 0.001518\n",
      "Test PSNR: 32.043 (best: 32.043 at epoch 20), bicubic: 30.403\n",
      "------Epoch 21, runtime: 801.278 s, loss: 0.001663\n",
      "Test PSNR: 32.055 (best: 32.055 at epoch 21), bicubic: 30.403\n"
     ]
    },
    {
     "ename": "KeyboardInterrupt",
     "evalue": "",
     "output_type": "error",
     "traceback": [
      "\u001b[0;31m---------------------------------------------------------------------------\u001b[0m",
      "\u001b[0;31mKeyboardInterrupt\u001b[0m                         Traceback (most recent call last)",
      "\u001b[0;32m<ipython-input-34-d40d129219ed>\u001b[0m in \u001b[0;36m<module>\u001b[0;34m()\u001b[0m\n\u001b[1;32m      1\u001b[0m \u001b[0;31m# train model\u001b[0m\u001b[0;34m\u001b[0m\u001b[0;34m\u001b[0m\u001b[0m\n\u001b[0;32m----> 2\u001b[0;31m \u001b[0mmodel\u001b[0m\u001b[0;34m.\u001b[0m\u001b[0mtrain\u001b[0m\u001b[0;34m(\u001b[0m\u001b[0mload\u001b[0m \u001b[0;34m=\u001b[0m \u001b[0;32mFalse\u001b[0m\u001b[0;34m)\u001b[0m\u001b[0;34m\u001b[0m\u001b[0m\n\u001b[0m",
      "\u001b[0;32m~/deeplearning/research/CVPR17-VESPCN-TF/VESPCN-tensorflow/models/ESPCN.py\u001b[0m in \u001b[0;36mtrain\u001b[0;34m(self, load)\u001b[0m\n\u001b[1;32m     99\u001b[0m             \u001b[0;32mfor\u001b[0m \u001b[0mbatch\u001b[0m \u001b[0;32min\u001b[0m \u001b[0mrange\u001b[0m\u001b[0;34m(\u001b[0m\u001b[0;36m0\u001b[0m\u001b[0;34m,\u001b[0m \u001b[0mint\u001b[0m\u001b[0;34m(\u001b[0m\u001b[0mself\u001b[0m\u001b[0;34m.\u001b[0m\u001b[0mconfig\u001b[0m\u001b[0;34m.\u001b[0m\u001b[0mrepeat\u001b[0m \u001b[0;34m*\u001b[0m \u001b[0mlen\u001b[0m\u001b[0;34m(\u001b[0m\u001b[0mself\u001b[0m\u001b[0;34m.\u001b[0m\u001b[0mdataset_HR\u001b[0m\u001b[0;34m)\u001b[0m \u001b[0;34m/\u001b[0m \u001b[0mself\u001b[0m\u001b[0;34m.\u001b[0m\u001b[0mconfig\u001b[0m\u001b[0;34m.\u001b[0m\u001b[0mbatch_size\u001b[0m\u001b[0;34m)\u001b[0m\u001b[0;34m)\u001b[0m\u001b[0;34m:\u001b[0m\u001b[0;34m\u001b[0m\u001b[0m\n\u001b[1;32m    100\u001b[0m                 \u001b[0mstart_index\u001b[0m \u001b[0;34m=\u001b[0m \u001b[0;34m(\u001b[0m\u001b[0mstart_index\u001b[0m \u001b[0;34m+\u001b[0m \u001b[0mself\u001b[0m\u001b[0;34m.\u001b[0m\u001b[0mconfig\u001b[0m\u001b[0;34m.\u001b[0m\u001b[0mbatch_size\u001b[0m\u001b[0;34m)\u001b[0m \u001b[0;34m%\u001b[0m \u001b[0mlen\u001b[0m\u001b[0;34m(\u001b[0m\u001b[0mself\u001b[0m\u001b[0;34m.\u001b[0m\u001b[0mdataset_HR\u001b[0m\u001b[0;34m)\u001b[0m\u001b[0;34m\u001b[0m\u001b[0m\n\u001b[0;32m--> 101\u001b[0;31m                 \u001b[0mLR_batch\u001b[0m\u001b[0;34m,\u001b[0m \u001b[0mHR_batch\u001b[0m \u001b[0;34m=\u001b[0m \u001b[0mget_batch_Y\u001b[0m\u001b[0;34m(\u001b[0m\u001b[0mself\u001b[0m\u001b[0;34m.\u001b[0m\u001b[0mdataset_LR\u001b[0m\u001b[0;34m,\u001b[0m \u001b[0mself\u001b[0m\u001b[0;34m.\u001b[0m\u001b[0mdataset_HR\u001b[0m\u001b[0;34m,\u001b[0m \u001b[0mself\u001b[0m\u001b[0;34m.\u001b[0m\u001b[0mconfig\u001b[0m\u001b[0;34m.\u001b[0m\u001b[0mbatch_size\u001b[0m\u001b[0;34m,\u001b[0m \u001b[0mself\u001b[0m\u001b[0;34m.\u001b[0m\u001b[0mconfig\u001b[0m\u001b[0;34m,\u001b[0m \u001b[0mstart\u001b[0m \u001b[0;34m=\u001b[0m \u001b[0mstart_index\u001b[0m\u001b[0;34m)\u001b[0m\u001b[0;34m\u001b[0m\u001b[0m\n\u001b[0m\u001b[1;32m    102\u001b[0m                 \u001b[0m_\u001b[0m\u001b[0;34m,\u001b[0m \u001b[0menhanced_batch\u001b[0m\u001b[0;34m,\u001b[0m \u001b[0mloss\u001b[0m \u001b[0;34m=\u001b[0m \u001b[0mself\u001b[0m\u001b[0;34m.\u001b[0m\u001b[0msess\u001b[0m\u001b[0;34m.\u001b[0m\u001b[0mrun\u001b[0m\u001b[0;34m(\u001b[0m\u001b[0;34m[\u001b[0m\u001b[0mself\u001b[0m\u001b[0;34m.\u001b[0m\u001b[0moptimizer\u001b[0m\u001b[0;34m,\u001b[0m \u001b[0mself\u001b[0m\u001b[0;34m.\u001b[0m\u001b[0menhanced_patch\u001b[0m\u001b[0;34m,\u001b[0m \u001b[0mself\u001b[0m\u001b[0;34m.\u001b[0m\u001b[0mloss\u001b[0m\u001b[0;34m]\u001b[0m \u001b[0;34m,\u001b[0m \u001b[0mfeed_dict\u001b[0m\u001b[0;34m=\u001b[0m\u001b[0;34m{\u001b[0m\u001b[0mself\u001b[0m\u001b[0;34m.\u001b[0m\u001b[0mLR_patch\u001b[0m\u001b[0;34m:\u001b[0m\u001b[0mLR_batch\u001b[0m\u001b[0;34m,\u001b[0m \u001b[0mself\u001b[0m\u001b[0;34m.\u001b[0m\u001b[0mHR_patch\u001b[0m\u001b[0;34m:\u001b[0m\u001b[0mHR_batch\u001b[0m\u001b[0;34m}\u001b[0m\u001b[0;34m)\u001b[0m\u001b[0;34m\u001b[0m\u001b[0m\n\u001b[1;32m    103\u001b[0m \u001b[0;34m\u001b[0m\u001b[0m\n",
      "\u001b[0;32m~/deeplearning/research/CVPR17-VESPCN-TF/VESPCN-tensorflow/dataloader.py\u001b[0m in \u001b[0;36mget_batch_Y\u001b[0;34m(dataset_LR, dataset_HR, num, config, start)\u001b[0m\n\u001b[1;32m    102\u001b[0m \u001b[0;34m\u001b[0m\u001b[0m\n\u001b[1;32m    103\u001b[0m         \u001b[0mLR_batch\u001b[0m\u001b[0;34m[\u001b[0m\u001b[0mi\u001b[0m\u001b[0;34m,\u001b[0m\u001b[0;34m:\u001b[0m\u001b[0;34m,\u001b[0m\u001b[0;34m:\u001b[0m\u001b[0;34m,\u001b[0m\u001b[0;34m:\u001b[0m\u001b[0;34m]\u001b[0m \u001b[0;34m=\u001b[0m \u001b[0mpreprocess_Y\u001b[0m\u001b[0;34m(\u001b[0m\u001b[0mget_Y\u001b[0m\u001b[0;34m(\u001b[0m\u001b[0mLR_patch\u001b[0m\u001b[0;34m)\u001b[0m\u001b[0;34m)\u001b[0m \u001b[0;31m# pre/post processing function is defined in ops.py\u001b[0m\u001b[0;34m\u001b[0m\u001b[0m\n\u001b[0;32m--> 104\u001b[0;31m         \u001b[0mHR_batch\u001b[0m\u001b[0;34m[\u001b[0m\u001b[0mi\u001b[0m\u001b[0;34m,\u001b[0m\u001b[0;34m:\u001b[0m\u001b[0;34m,\u001b[0m\u001b[0;34m:\u001b[0m\u001b[0;34m,\u001b[0m\u001b[0;34m:\u001b[0m\u001b[0;34m]\u001b[0m \u001b[0;34m=\u001b[0m \u001b[0mpreprocess_Y\u001b[0m\u001b[0;34m(\u001b[0m\u001b[0mget_Y\u001b[0m\u001b[0;34m(\u001b[0m\u001b[0mHR_patch\u001b[0m\u001b[0;34m)\u001b[0m\u001b[0;34m)\u001b[0m\u001b[0;34m\u001b[0m\u001b[0m\n\u001b[0m\u001b[1;32m    105\u001b[0m     \u001b[0;32mreturn\u001b[0m \u001b[0mLR_batch\u001b[0m\u001b[0;34m,\u001b[0m \u001b[0mHR_batch\u001b[0m\u001b[0;34m\u001b[0m\u001b[0m\n",
      "\u001b[0;32m~/deeplearning/research/CVPR17-VESPCN-TF/VESPCN-tensorflow/utils.py\u001b[0m in \u001b[0;36mget_Y\u001b[0;34m(frame)\u001b[0m\n\u001b[1;32m     52\u001b[0m     \u001b[0;31m#frame_ycbcr = cv2.cvtColor(frame, cv2.COLOR_RGB2YCrCb) # This returns Y in [0, 255]\u001b[0m\u001b[0;34m\u001b[0m\u001b[0;34m\u001b[0m\u001b[0m\n\u001b[1;32m     53\u001b[0m     \u001b[0mframe\u001b[0m \u001b[0;34m=\u001b[0m \u001b[0mframe\u001b[0m\u001b[0;34m.\u001b[0m\u001b[0mastype\u001b[0m\u001b[0;34m(\u001b[0m\u001b[0;34m\"uint8\"\u001b[0m\u001b[0;34m)\u001b[0m\u001b[0;34m\u001b[0m\u001b[0m\n\u001b[0;32m---> 54\u001b[0;31m     \u001b[0mframe_ycbcr\u001b[0m \u001b[0;34m=\u001b[0m \u001b[0msc\u001b[0m\u001b[0;34m.\u001b[0m\u001b[0mrgb2ycbcr\u001b[0m\u001b[0;34m(\u001b[0m\u001b[0mframe\u001b[0m\u001b[0;34m)\u001b[0m \u001b[0;31m# This returns Y in [16, 235]\u001b[0m\u001b[0;34m\u001b[0m\u001b[0m\n\u001b[0m\u001b[1;32m     55\u001b[0m     \u001b[0;31m#print(np.max(frame_ycbcr[:,:,0]), np.min(frame_ycbcr[:,:,0]))\u001b[0m\u001b[0;34m\u001b[0m\u001b[0;34m\u001b[0m\u001b[0m\n\u001b[1;32m     56\u001b[0m     \u001b[0mY\u001b[0m \u001b[0;34m=\u001b[0m \u001b[0mnp\u001b[0m\u001b[0;34m.\u001b[0m\u001b[0msplit\u001b[0m\u001b[0;34m(\u001b[0m\u001b[0mframe_ycbcr\u001b[0m\u001b[0;34m,\u001b[0m \u001b[0;36m3\u001b[0m\u001b[0;34m,\u001b[0m \u001b[0maxis\u001b[0m\u001b[0;34m=\u001b[0m\u001b[0;36m2\u001b[0m\u001b[0;34m)\u001b[0m\u001b[0;34m[\u001b[0m\u001b[0;36m0\u001b[0m\u001b[0;34m]\u001b[0m\u001b[0;34m\u001b[0m\u001b[0m\n",
      "\u001b[0;32m~/.local/lib/python3.5/site-packages/skimage/color/colorconv.py\u001b[0m in \u001b[0;36mrgb2ycbcr\u001b[0;34m(rgb)\u001b[0m\n\u001b[1;32m   1698\u001b[0m     \"\"\"\n\u001b[1;32m   1699\u001b[0m     \u001b[0marr\u001b[0m \u001b[0;34m=\u001b[0m \u001b[0m_convert\u001b[0m\u001b[0;34m(\u001b[0m\u001b[0mycbcr_from_rgb\u001b[0m\u001b[0;34m,\u001b[0m \u001b[0mrgb\u001b[0m\u001b[0;34m)\u001b[0m\u001b[0;34m\u001b[0m\u001b[0m\n\u001b[0;32m-> 1700\u001b[0;31m     \u001b[0marr\u001b[0m\u001b[0;34m[\u001b[0m\u001b[0;34m...\u001b[0m\u001b[0;34m,\u001b[0m \u001b[0;36m0\u001b[0m\u001b[0;34m]\u001b[0m \u001b[0;34m+=\u001b[0m \u001b[0;36m16\u001b[0m\u001b[0;34m\u001b[0m\u001b[0m\n\u001b[0m\u001b[1;32m   1701\u001b[0m     \u001b[0marr\u001b[0m\u001b[0;34m[\u001b[0m\u001b[0;34m...\u001b[0m\u001b[0;34m,\u001b[0m \u001b[0;36m1\u001b[0m\u001b[0;34m]\u001b[0m \u001b[0;34m+=\u001b[0m \u001b[0;36m128\u001b[0m\u001b[0;34m\u001b[0m\u001b[0m\n\u001b[1;32m   1702\u001b[0m     \u001b[0marr\u001b[0m\u001b[0;34m[\u001b[0m\u001b[0;34m...\u001b[0m\u001b[0;34m,\u001b[0m \u001b[0;36m2\u001b[0m\u001b[0;34m]\u001b[0m \u001b[0;34m+=\u001b[0m \u001b[0;36m128\u001b[0m\u001b[0;34m\u001b[0m\u001b[0m\n",
      "\u001b[0;31mKeyboardInterrupt\u001b[0m: "
     ]
    }
   ],
   "source": [
    "# train model\n",
    "model.train(load = False)"
   ]
  },
  {
   "cell_type": "code",
   "execution_count": 9,
   "metadata": {},
   "outputs": [
    {
     "name": "stdout",
     "output_type": "stream",
     "text": [
      "INFO:tensorflow:Restoring parameters from ./result/IDN-YbCr/D4/model/model_best\n",
      "Continuing from epoch 13\n"
     ]
    },
    {
     "data": {
      "text/plain": [
       "(37.440325387601405, 34.91064951925091)"
      ]
     },
     "execution_count": 9,
     "metadata": {},
     "output_type": "execute_result"
    }
   ],
   "source": [
    "# test trained model\n",
    "model.test(load = True)"
   ]
  },
  {
   "cell_type": "code",
   "execution_count": null,
   "metadata": {},
   "outputs": [],
   "source": [
    "# save trained model\n",
    "model.save()"
   ]
  },
  {
   "cell_type": "code",
   "execution_count": 23,
   "metadata": {},
   "outputs": [
    {
     "name": "stdout",
     "output_type": "stream",
     "text": [
      "Loading checkpoints from  ./result/IDN-YbCr/D4/model/model_latest\n",
      "INFO:tensorflow:Restoring parameters from ./result/IDN-YbCr/D4/model/model_latest\n",
      "Continuing from epoch 1\n",
      "3.227469512460727685e+01\n"
     ]
    }
   ],
   "source": [
    "model.load()"
   ]
  }
 ],
 "metadata": {
  "kernelspec": {
   "display_name": "Python 3",
   "language": "python",
   "name": "python3"
  },
  "language_info": {
   "codemirror_mode": {
    "name": "ipython",
    "version": 3
   },
   "file_extension": ".py",
   "mimetype": "text/x-python",
   "name": "python",
   "nbconvert_exporter": "python",
   "pygments_lexer": "ipython3",
   "version": "3.5.2"
  }
 },
 "nbformat": 4,
 "nbformat_minor": 1
}

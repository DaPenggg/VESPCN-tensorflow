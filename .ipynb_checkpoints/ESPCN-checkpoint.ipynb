{
 "cells": [
  {
   "cell_type": "code",
   "execution_count": 4,
   "metadata": {},
   "outputs": [],
   "source": [
    "import numpy as np\n",
    "import tensorflow as tf\n",
    "from ESPCN import *\n",
    "from utils import *\n",
    "\n",
    "import os\n",
    "import scipy.misc\n",
    "import numpy as np\n",
    "from utils import *\n",
    "import tensorflow as tf\n",
    "from easydict import EasyDict as edict\n",
    "\n",
    "%reload_ext autoreload\n",
    "%autoreload 2\n",
    "\n",
    "config = edict()\n",
    "\n",
    "config.sample_dir = \"samples\"\n",
    "config.checkpoint_dir = \"checkpoint\"\n",
    "config.log_dir = \"logs\"\n",
    "config.train_size = 100000000 # use large number if you have enough memory\n",
    "config.valid_size = 10 # use large number if you have enough memory\n",
    "config.test_size = 6400 # use large number if you have enough memory\n",
    "config.batch_size = 8 # use large number if you have enough memory\n",
    "config.patch_size = 17\n",
    "config.patch_shape = [51,51,3] #[51,51,3]\n",
    "config.scale = 3 #3\n",
    "config.learning_rate = 1e-5\n",
    "config.epoch = 1000000\n",
    "#config.channels = 3\n",
    "#config.mode = \"RGB\"\n",
    "\n",
    "config.channels = 1\n",
    "config.mode = \"YCbCr\"\n",
    "\n",
    "#'''\n",
    "config.dataset = \"DIV2K\"\n",
    "config.valid = edict()\n",
    "config.valid.hr_path = \"/home/johnyi/deeplearning/research/SISR_Datasets/train/T91_patch\"\n",
    "\n",
    "config.test = edict()\n",
    "config.test.hr_path = \"/home/johnyi/deeplearning/research/SISR_Datasets/test/\"\n",
    "\n",
    "config.train = edict()\n",
    "config.train.hr_path = \"/home/johnyi/deeplearning/research/SISR_Datasets/train/\"\n",
    "\n",
    "#'''\n",
    "config.train.lr_init = 1e-3\n",
    "config.train.lr_decay = 0.5\n",
    "config.train.decay_iter = 10\n",
    "config.augmentation = True\n",
    "\n",
    "if not os.path.exists(config.checkpoint_dir):\n",
    "    os.makedirs(config.checkpoint_dir)\n",
    "if not os.path.exists(config.sample_dir):\n",
    "    os.makedirs(config.sample_dir)\n",
    "if not os.path.exists(config.log_dir):\n",
    "    os.makedirs(config.log_dir)"
   ]
  },
  {
   "cell_type": "code",
   "execution_count": 2,
   "metadata": {},
   "outputs": [
    {
     "name": "stdout",
     "output_type": "stream",
     "text": [
      "loading from.. /home/johnyi/deeplearning/research/SISR_Datasets/train/DIV2K num images: 800\n",
      "800 images loaded! setting took: 66.9466s\n"
     ]
    }
   ],
   "source": [
    "start_time = time.time()\n",
    "imdb = create_imdb(config)"
   ]
  },
  {
   "cell_type": "code",
   "execution_count": 5,
   "metadata": {},
   "outputs": [
    {
     "name": "stdout",
     "output_type": "stream",
     "text": [
      "Number of variables in network: 8 , full list: [<tf.Variable 'CONV_1/kernel:0' shape=(5, 5, 1, 64) dtype=float32_ref>, <tf.Variable 'CONV_1/bias:0' shape=(64,) dtype=float32_ref>, <tf.Variable 'CONV_2/kernel:0' shape=(3, 3, 64, 32) dtype=float32_ref>, <tf.Variable 'CONV_2/bias:0' shape=(32,) dtype=float32_ref>, <tf.Variable 'CONV_3/kernel:0' shape=(3, 3, 32, 9) dtype=float32_ref>, <tf.Variable 'CONV_3/bias:0' shape=(9,) dtype=float32_ref>, <tf.Variable 'CONV_OUT/kernel:0' shape=(1, 1, 1, 1) dtype=float32_ref>, <tf.Variable 'CONV_OUT/bias:0' shape=(1,) dtype=float32_ref>]\n"
     ]
    }
   ],
   "source": [
    "tf.reset_default_graph()\n",
    "imdb = []\n",
    "sess = tf.Session()\n",
    "espcn = ESPCN(sess, config, imdb)"
   ]
  },
  {
   "cell_type": "code",
   "execution_count": 6,
   "metadata": {},
   "outputs": [
    {
     "name": "stdout",
     "output_type": "stream",
     "text": [
      " [*] Reading checkpoints...\n",
      "loading from  checkpoint/DIV2K\n",
      "INFO:tensorflow:Restoring parameters from checkpoint/DIV2K/ESPCN-YCbCr-x3\n",
      " [*] Load SUCCESS\n",
      "[calendar] image 0 shape: (576, 720, 3) downsampled: (192, 240, 3) PSNR: 20.148514871958074 bicubic: 19.90637069063591\n",
      "[calendar] image 1 shape: (576, 720, 3) downsampled: (192, 240, 3) PSNR: 20.059257550022146 bicubic: 19.8482285306607\n",
      "[calendar] image 2 shape: (576, 720, 3) downsampled: (192, 240, 3) PSNR: 20.000018343648257 bicubic: 19.801868907494057\n",
      "[calendar] image 3 shape: (576, 720, 3) downsampled: (192, 240, 3) PSNR: 20.060079890348284 bicubic: 19.829757520603394\n",
      "[calendar] image 4 shape: (576, 720, 3) downsampled: (192, 240, 3) PSNR: 20.129602044049207 bicubic: 19.910380177584297\n",
      "[calendar] image 5 shape: (576, 720, 3) downsampled: (192, 240, 3) PSNR: 20.19238791884277 bicubic: 19.93172335736738\n",
      "[calendar] image 6 shape: (576, 720, 3) downsampled: (192, 240, 3) PSNR: 20.18160669506139 bicubic: 19.928836497833572\n",
      "[calendar] image 7 shape: (576, 720, 3) downsampled: (192, 240, 3) PSNR: 20.22974201563143 bicubic: 19.955164186301477\n",
      "[calendar] image 8 shape: (576, 720, 3) downsampled: (192, 240, 3) PSNR: 20.182446421812262 bicubic: 19.949769905369987\n",
      "[calendar] image 9 shape: (576, 720, 3) downsampled: (192, 240, 3) PSNR: 20.182702557566277 bicubic: 19.985512781683205\n",
      "[calendar] image 10 shape: (576, 720, 3) downsampled: (192, 240, 3) PSNR: 20.203584110315997 bicubic: 19.981594911510175\n",
      "[calendar] image 11 shape: (576, 720, 3) downsampled: (192, 240, 3) PSNR: 20.23443707052248 bicubic: 19.988749152526452\n",
      "[calendar] image 12 shape: (576, 720, 3) downsampled: (192, 240, 3) PSNR: 20.22214754849 bicubic: 20.030346967827192\n",
      "[calendar] image 13 shape: (576, 720, 3) downsampled: (192, 240, 3) PSNR: 20.335365437453653 bicubic: 20.133525263282866\n",
      "[calendar] image 14 shape: (576, 720, 3) downsampled: (192, 240, 3) PSNR: 20.32609023159499 bicubic: 20.10798167275879\n",
      "[calendar] image 15 shape: (576, 720, 3) downsampled: (192, 240, 3) PSNR: 20.274791870837152 bicubic: 20.09941275212334\n",
      "[calendar] image 16 shape: (576, 720, 3) downsampled: (192, 240, 3) PSNR: 20.33671927086499 bicubic: 20.164349228620786\n",
      "[calendar] image 17 shape: (576, 720, 3) downsampled: (192, 240, 3) PSNR: 20.32264454863374 bicubic: 20.1501924383022\n",
      "[calendar] image 18 shape: (576, 720, 3) downsampled: (192, 240, 3) PSNR: 20.324708465379043 bicubic: 20.130796089022994\n",
      "[calendar] image 19 shape: (576, 720, 3) downsampled: (192, 240, 3) PSNR: 20.3005552090165 bicubic: 20.148571225596346\n",
      "[calendar] image 20 shape: (576, 720, 3) downsampled: (192, 240, 3) PSNR: 20.361742371944356 bicubic: 20.147661122029188\n",
      "[calendar] image 21 shape: (576, 720, 3) downsampled: (192, 240, 3) PSNR: 20.25045753548455 bicubic: 20.095368656238094\n",
      "[calendar] image 22 shape: (576, 720, 3) downsampled: (192, 240, 3) PSNR: 20.318866893592453 bicubic: 20.098412725232585\n",
      "[calendar] image 23 shape: (576, 720, 3) downsampled: (192, 240, 3) PSNR: 20.301693222362665 bicubic: 20.10711204411232\n",
      "[calendar] image 24 shape: (576, 720, 3) downsampled: (192, 240, 3) PSNR: 20.372422363991653 bicubic: 20.140884416016508\n",
      "[calendar] image 25 shape: (576, 720, 3) downsampled: (192, 240, 3) PSNR: 20.196056461250983 bicubic: 20.121137066150787\n",
      "[calendar] image 26 shape: (576, 720, 3) downsampled: (192, 240, 3) PSNR: 20.20170852794728 bicubic: 20.136368747845662\n",
      "[calendar] image 27 shape: (576, 720, 3) downsampled: (192, 240, 3) PSNR: 20.252368810746198 bicubic: 20.075083486117986\n",
      "[calendar] image 28 shape: (576, 720, 3) downsampled: (192, 240, 3) PSNR: 20.28145689978217 bicubic: 20.051813121229102\n",
      "[calendar] image 29 shape: (576, 720, 3) downsampled: (192, 240, 3) PSNR: 20.22536884856133 bicubic: 20.048702902859116\n",
      "[calendar] image 30 shape: (576, 720, 3) downsampled: (192, 240, 3) PSNR: 20.15157411933211 bicubic: 20.02989177143838\n",
      "[calendar] image 31 shape: (576, 720, 3) downsampled: (192, 240, 3) PSNR: 20.197395184367096 bicubic: 20.045697874734692\n",
      "[calendar] image 32 shape: (576, 720, 3) downsampled: (192, 240, 3) PSNR: 20.19207606188095 bicubic: 20.06158881493323\n",
      "[calendar] image 33 shape: (576, 720, 3) downsampled: (192, 240, 3) PSNR: 20.210311489938 bicubic: 20.096064257274033\n",
      "[calendar] image 34 shape: (576, 720, 3) downsampled: (192, 240, 3) PSNR: 20.267843174411304 bicubic: 20.11090007914541\n",
      "[calendar] image 35 shape: (576, 720, 3) downsampled: (192, 240, 3) PSNR: 20.265687701481518 bicubic: 20.16740726685169\n",
      "[calendar] image 36 shape: (576, 720, 3) downsampled: (192, 240, 3) PSNR: 20.391846009233994 bicubic: 20.20495083644726\n",
      "[calendar] image 37 shape: (576, 720, 3) downsampled: (192, 240, 3) PSNR: 20.373259643727767 bicubic: 20.210277967672845\n",
      "[calendar] image 38 shape: (576, 720, 3) downsampled: (192, 240, 3) PSNR: 20.321723751456066 bicubic: 20.22555653643189\n",
      "[calendar] image 39 shape: (576, 720, 3) downsampled: (192, 240, 3) PSNR: 20.24198545444878 bicubic: 20.187009799349973\n",
      "[calendar] image 40 shape: (576, 720, 3) downsampled: (192, 240, 3) PSNR: 20.285587707193713 bicubic: 20.200016998471988\n",
      "50.91773438453674\n",
      "avg: 20.24167888549228 bicubic: 20.062074115797262\n"
     ]
    }
   ],
   "source": [
    "with sess.as_default():\n",
    "    start_time = time.time()\n",
    "    a,b = espcn.test(name = \"Set5\", load = True)\n",
    "    print(time.time()-start_time)\n",
    "    print(\"avg:\",a,\"bicubic:\",b)"
   ]
  },
  {
   "cell_type": "code",
   "execution_count": 11,
   "metadata": {},
   "outputs": [
    {
     "name": "stdout",
     "output_type": "stream",
     "text": [
      " [*] Reading checkpoints...\n",
      "loading from  checkpoint/DIV2K\n",
      "INFO:tensorflow:Restoring parameters from checkpoint/DIV2K/ESPCN-YCbCr-x3\n",
      " [*] Load SUCCESS\n",
      "Epoch: [ 0] [   1/ 100] time: 0.0908, loss: 154.94918823\n",
      "[Set5] image 0 shape: (510, 510, 3) downsampled: (170, 170, 3) PSNR: 32.55960756146753 bicubic: 31.805646589863137\n",
      "[Set5] image 1 shape: (288, 288, 3) downsampled: (96, 96, 3) PSNR: 31.418299957502075 bicubic: 30.325163251618076\n",
      "[Set5] image 2 shape: (255, 255, 3) downsampled: (85, 85, 3) PSNR: 23.63787625422318 bicubic: 21.970475997093768\n",
      "[Set5] image 3 shape: (279, 279, 3) downsampled: (93, 93, 3) PSNR: 31.978975409086054 bicubic: 31.175769560331602\n",
      "[Set5] image 4 shape: (342, 228, 3) downsampled: (114, 76, 3) PSNR: 28.233191401160795 bicubic: 26.494231107799692\n",
      "Epoch: [ 0] test PSNR: 29.565590, bicubic: 28.354257\n",
      "Epoch: [100] [   1/ 100] time: 45.8638, loss: 61.60775757\n",
      "Epoch: [200] [   1/ 100] time: 88.7345, loss: 135.09860229\n",
      "Epoch: [300] [   1/ 100] time: 131.7393, loss: 92.40713501\n",
      "Epoch: [400] [   1/ 100] time: 177.0045, loss: 154.99847412\n",
      "Epoch: [500] [   1/ 100] time: 221.2591, loss: 115.53647614\n",
      "Epoch: [600] [   1/ 100] time: 264.6614, loss: 82.81987762\n",
      "Epoch: [700] [   1/ 100] time: 308.1936, loss: 109.17090607\n",
      "Epoch: [800] [   1/ 100] time: 351.8767, loss: 71.12478638\n",
      "Epoch: [900] [   1/ 100] time: 395.2095, loss: 150.55738831\n",
      "Epoch: [1000] [   1/ 100] time: 439.4241, loss: 75.96848297\n",
      "[Set5] image 0 shape: (510, 510, 3) downsampled: (170, 170, 3) PSNR: 31.871183075228767 bicubic: 31.805646589863137\n",
      "[Set5] image 1 shape: (288, 288, 3) downsampled: (96, 96, 3) PSNR: 31.902779881546934 bicubic: 30.325163251618076\n",
      "[Set5] image 2 shape: (255, 255, 3) downsampled: (85, 85, 3) PSNR: 23.78697685030147 bicubic: 21.970475997093768\n",
      "[Set5] image 3 shape: (279, 279, 3) downsampled: (93, 93, 3) PSNR: 31.970649611447474 bicubic: 31.175769560331602\n",
      "[Set5] image 4 shape: (342, 228, 3) downsampled: (114, 76, 3) PSNR: 28.274284928674902 bicubic: 26.494231107799692\n",
      "Epoch: [1000] test PSNR: 29.561175, bicubic: 28.354257\n"
     ]
    },
    {
     "ename": "KeyboardInterrupt",
     "evalue": "",
     "output_type": "error",
     "traceback": [
      "\u001b[0;31m---------------------------------------------------------------------------\u001b[0m",
      "\u001b[0;31mKeyboardInterrupt\u001b[0m                         Traceback (most recent call last)",
      "\u001b[0;32m<ipython-input-11-6294f125f5fd>\u001b[0m in \u001b[0;36m<module>\u001b[0;34m()\u001b[0m\n\u001b[1;32m      1\u001b[0m \u001b[0;32mwith\u001b[0m \u001b[0msess\u001b[0m\u001b[0;34m.\u001b[0m\u001b[0mas_default\u001b[0m\u001b[0;34m(\u001b[0m\u001b[0;34m)\u001b[0m\u001b[0;34m:\u001b[0m\u001b[0;34m\u001b[0m\u001b[0m\n\u001b[0;32m----> 2\u001b[0;31m     \u001b[0mespcn\u001b[0m\u001b[0;34m.\u001b[0m\u001b[0mtrain\u001b[0m\u001b[0;34m(\u001b[0m\u001b[0mconfig\u001b[0m\u001b[0;34m,\u001b[0m \u001b[0;32mTrue\u001b[0m\u001b[0;34m)\u001b[0m\u001b[0;34m\u001b[0m\u001b[0m\n\u001b[0m",
      "\u001b[0;32m~/deeplearning/research/CVPR16-ESPCN-TF-jhyi16/ESPCN.py\u001b[0m in \u001b[0;36mtrain\u001b[0;34m(self, config, load)\u001b[0m\n\u001b[1;32m     98\u001b[0m                 \u001b[0;31m#batch = [load_image(batch_file, self.mode) for batch_file in batch_files]\u001b[0m\u001b[0;34m\u001b[0m\u001b[0;34m\u001b[0m\u001b[0m\n\u001b[1;32m     99\u001b[0m                 \u001b[0;31m#batch_LR = [doresize(xx, [self.input_size,]*2) for xx in batch]\u001b[0m\u001b[0;34m\u001b[0m\u001b[0;34m\u001b[0m\u001b[0m\n\u001b[0;32m--> 100\u001b[0;31m                 \u001b[0mbatch\u001b[0m\u001b[0;34m,\u001b[0m \u001b[0mbatch_LR\u001b[0m \u001b[0;34m=\u001b[0m \u001b[0mget_batch\u001b[0m\u001b[0;34m(\u001b[0m\u001b[0mself\u001b[0m\u001b[0;34m.\u001b[0m\u001b[0mimdb\u001b[0m\u001b[0;34m,\u001b[0m \u001b[0midx\u001b[0m\u001b[0;34m*\u001b[0m\u001b[0mself\u001b[0m\u001b[0;34m.\u001b[0m\u001b[0mbatch_size\u001b[0m\u001b[0;34m,\u001b[0m \u001b[0mself\u001b[0m\u001b[0;34m.\u001b[0m\u001b[0mbatch_size\u001b[0m\u001b[0;34m,\u001b[0m \u001b[0mself\u001b[0m\u001b[0;34m.\u001b[0m\u001b[0mpatch_shape\u001b[0m\u001b[0;34m[\u001b[0m\u001b[0;36m0\u001b[0m\u001b[0;34m]\u001b[0m\u001b[0;34m,\u001b[0m \u001b[0mself\u001b[0m\u001b[0;34m.\u001b[0m\u001b[0mscale\u001b[0m\u001b[0;34m,\u001b[0m \u001b[0maugmentation\u001b[0m \u001b[0;34m=\u001b[0m \u001b[0mself\u001b[0m\u001b[0;34m.\u001b[0m\u001b[0maugmentation\u001b[0m\u001b[0;34m)\u001b[0m\u001b[0;34m\u001b[0m\u001b[0m\n\u001b[0m\u001b[1;32m    101\u001b[0m                 \u001b[0mbatch_HR\u001b[0m \u001b[0;34m=\u001b[0m \u001b[0mnp\u001b[0m\u001b[0;34m.\u001b[0m\u001b[0marray\u001b[0m\u001b[0;34m(\u001b[0m\u001b[0mbatch\u001b[0m\u001b[0;34m)\u001b[0m\u001b[0;31m#.astype(np.float32) #float32로 변환 안해도 알아서 변환되는 듯...\u001b[0m\u001b[0;34m\u001b[0m\u001b[0m\n\u001b[1;32m    102\u001b[0m                 \u001b[0mbatch_LR\u001b[0m \u001b[0;34m=\u001b[0m \u001b[0mnp\u001b[0m\u001b[0;34m.\u001b[0m\u001b[0marray\u001b[0m\u001b[0;34m(\u001b[0m\u001b[0mbatch_LR\u001b[0m\u001b[0;34m)\u001b[0m\u001b[0;31m#.astype(np.float32)\u001b[0m\u001b[0;34m\u001b[0m\u001b[0m\n",
      "\u001b[0;32m~/deeplearning/research/CVPR16-ESPCN-TF-jhyi16/utils.py\u001b[0m in \u001b[0;36mget_batch\u001b[0;34m(imdb, start, batch_size, patch_size, scale, augmentation)\u001b[0m\n\u001b[1;32m    108\u001b[0m         \u001b[0mpatch\u001b[0m \u001b[0;34m=\u001b[0m \u001b[0mimresize\u001b[0m\u001b[0;34m(\u001b[0m\u001b[0mtmp\u001b[0m\u001b[0;34m,\u001b[0m \u001b[0;34m[\u001b[0m\u001b[0mpatch_size\u001b[0m\u001b[0;34m,\u001b[0m \u001b[0mpatch_size\u001b[0m\u001b[0;34m]\u001b[0m\u001b[0;34m,\u001b[0m \u001b[0minterp\u001b[0m \u001b[0;34m=\u001b[0m \u001b[0;34m\"bicubic\"\u001b[0m\u001b[0;34m)\u001b[0m\u001b[0;34m\u001b[0m\u001b[0m\n\u001b[1;32m    109\u001b[0m         \u001b[0mimg_batch\u001b[0m\u001b[0;34m[\u001b[0m\u001b[0mi\u001b[0m\u001b[0;34m,\u001b[0m\u001b[0;34m:\u001b[0m\u001b[0;34m,\u001b[0m\u001b[0;34m:\u001b[0m\u001b[0;34m,\u001b[0m\u001b[0;34m:\u001b[0m\u001b[0;34m]\u001b[0m \u001b[0;34m=\u001b[0m \u001b[0mpatch\u001b[0m\u001b[0;34m\u001b[0m\u001b[0m\n\u001b[0;32m--> 110\u001b[0;31m         \u001b[0mimg_batch_LR\u001b[0m\u001b[0;34m[\u001b[0m\u001b[0mi\u001b[0m\u001b[0;34m,\u001b[0m\u001b[0;34m:\u001b[0m\u001b[0;34m,\u001b[0m\u001b[0;34m:\u001b[0m\u001b[0;34m,\u001b[0m\u001b[0;34m:\u001b[0m\u001b[0;34m]\u001b[0m \u001b[0;34m=\u001b[0m \u001b[0mimresize\u001b[0m\u001b[0;34m(\u001b[0m\u001b[0mpatch\u001b[0m\u001b[0;34m,\u001b[0m \u001b[0;34m[\u001b[0m\u001b[0mint\u001b[0m\u001b[0;34m(\u001b[0m\u001b[0mpatch_size\u001b[0m\u001b[0;34m/\u001b[0m\u001b[0mscale\u001b[0m\u001b[0;34m)\u001b[0m\u001b[0;34m,\u001b[0m \u001b[0mint\u001b[0m\u001b[0;34m(\u001b[0m\u001b[0mpatch_size\u001b[0m\u001b[0;34m/\u001b[0m\u001b[0mscale\u001b[0m\u001b[0;34m)\u001b[0m\u001b[0;34m]\u001b[0m\u001b[0;34m,\u001b[0m \u001b[0minterp\u001b[0m \u001b[0;34m=\u001b[0m \u001b[0;34m\"bicubic\"\u001b[0m\u001b[0;34m)\u001b[0m\u001b[0;34m\u001b[0m\u001b[0m\n\u001b[0m\u001b[1;32m    111\u001b[0m     \u001b[0;32mreturn\u001b[0m \u001b[0mimg_batch\u001b[0m\u001b[0;34m,\u001b[0m \u001b[0mimg_batch_LR\u001b[0m\u001b[0;34m\u001b[0m\u001b[0m\n\u001b[1;32m    112\u001b[0m \u001b[0;34m\u001b[0m\u001b[0m\n",
      "\u001b[0;32m~/.local/lib/python3.5/site-packages/numpy/lib/utils.py\u001b[0m in \u001b[0;36mnewfunc\u001b[0;34m(*args, **kwds)\u001b[0m\n\u001b[1;32m     99\u001b[0m             \u001b[0;34m\"\"\"`arrayrange` is deprecated, use `arange` instead!\"\"\"\u001b[0m\u001b[0;34m\u001b[0m\u001b[0m\n\u001b[1;32m    100\u001b[0m             \u001b[0mwarnings\u001b[0m\u001b[0;34m.\u001b[0m\u001b[0mwarn\u001b[0m\u001b[0;34m(\u001b[0m\u001b[0mdepdoc\u001b[0m\u001b[0;34m,\u001b[0m \u001b[0mDeprecationWarning\u001b[0m\u001b[0;34m,\u001b[0m \u001b[0mstacklevel\u001b[0m\u001b[0;34m=\u001b[0m\u001b[0;36m2\u001b[0m\u001b[0;34m)\u001b[0m\u001b[0;34m\u001b[0m\u001b[0m\n\u001b[0;32m--> 101\u001b[0;31m             \u001b[0;32mreturn\u001b[0m \u001b[0mfunc\u001b[0m\u001b[0;34m(\u001b[0m\u001b[0;34m*\u001b[0m\u001b[0margs\u001b[0m\u001b[0;34m,\u001b[0m \u001b[0;34m**\u001b[0m\u001b[0mkwds\u001b[0m\u001b[0;34m)\u001b[0m\u001b[0;34m\u001b[0m\u001b[0m\n\u001b[0m\u001b[1;32m    102\u001b[0m \u001b[0;34m\u001b[0m\u001b[0m\n\u001b[1;32m    103\u001b[0m         \u001b[0mnewfunc\u001b[0m \u001b[0;34m=\u001b[0m \u001b[0m_set_function_name\u001b[0m\u001b[0;34m(\u001b[0m\u001b[0mnewfunc\u001b[0m\u001b[0;34m,\u001b[0m \u001b[0mold_name\u001b[0m\u001b[0;34m)\u001b[0m\u001b[0;34m\u001b[0m\u001b[0m\n",
      "\u001b[0;32m~/.local/lib/python3.5/site-packages/scipy/misc/pilutil.py\u001b[0m in \u001b[0;36mimresize\u001b[0;34m(arr, size, interp, mode)\u001b[0m\n\u001b[1;32m    552\u001b[0m \u001b[0;34m\u001b[0m\u001b[0m\n\u001b[1;32m    553\u001b[0m     \"\"\"\n\u001b[0;32m--> 554\u001b[0;31m     \u001b[0mim\u001b[0m \u001b[0;34m=\u001b[0m \u001b[0mtoimage\u001b[0m\u001b[0;34m(\u001b[0m\u001b[0marr\u001b[0m\u001b[0;34m,\u001b[0m \u001b[0mmode\u001b[0m\u001b[0;34m=\u001b[0m\u001b[0mmode\u001b[0m\u001b[0;34m)\u001b[0m\u001b[0;34m\u001b[0m\u001b[0m\n\u001b[0m\u001b[1;32m    555\u001b[0m     \u001b[0mts\u001b[0m \u001b[0;34m=\u001b[0m \u001b[0mtype\u001b[0m\u001b[0;34m(\u001b[0m\u001b[0msize\u001b[0m\u001b[0;34m)\u001b[0m\u001b[0;34m\u001b[0m\u001b[0m\n\u001b[1;32m    556\u001b[0m     \u001b[0;32mif\u001b[0m \u001b[0missubdtype\u001b[0m\u001b[0;34m(\u001b[0m\u001b[0mts\u001b[0m\u001b[0;34m,\u001b[0m \u001b[0mnumpy\u001b[0m\u001b[0;34m.\u001b[0m\u001b[0msignedinteger\u001b[0m\u001b[0;34m)\u001b[0m\u001b[0;34m:\u001b[0m\u001b[0;34m\u001b[0m\u001b[0m\n",
      "\u001b[0;32m~/.local/lib/python3.5/site-packages/numpy/lib/utils.py\u001b[0m in \u001b[0;36mnewfunc\u001b[0;34m(*args, **kwds)\u001b[0m\n\u001b[1;32m     99\u001b[0m             \u001b[0;34m\"\"\"`arrayrange` is deprecated, use `arange` instead!\"\"\"\u001b[0m\u001b[0;34m\u001b[0m\u001b[0m\n\u001b[1;32m    100\u001b[0m             \u001b[0mwarnings\u001b[0m\u001b[0;34m.\u001b[0m\u001b[0mwarn\u001b[0m\u001b[0;34m(\u001b[0m\u001b[0mdepdoc\u001b[0m\u001b[0;34m,\u001b[0m \u001b[0mDeprecationWarning\u001b[0m\u001b[0;34m,\u001b[0m \u001b[0mstacklevel\u001b[0m\u001b[0;34m=\u001b[0m\u001b[0;36m2\u001b[0m\u001b[0;34m)\u001b[0m\u001b[0;34m\u001b[0m\u001b[0m\n\u001b[0;32m--> 101\u001b[0;31m             \u001b[0;32mreturn\u001b[0m \u001b[0mfunc\u001b[0m\u001b[0;34m(\u001b[0m\u001b[0;34m*\u001b[0m\u001b[0margs\u001b[0m\u001b[0;34m,\u001b[0m \u001b[0;34m**\u001b[0m\u001b[0mkwds\u001b[0m\u001b[0;34m)\u001b[0m\u001b[0;34m\u001b[0m\u001b[0m\n\u001b[0m\u001b[1;32m    102\u001b[0m \u001b[0;34m\u001b[0m\u001b[0m\n\u001b[1;32m    103\u001b[0m         \u001b[0mnewfunc\u001b[0m \u001b[0;34m=\u001b[0m \u001b[0m_set_function_name\u001b[0m\u001b[0;34m(\u001b[0m\u001b[0mnewfunc\u001b[0m\u001b[0;34m,\u001b[0m \u001b[0mold_name\u001b[0m\u001b[0;34m)\u001b[0m\u001b[0;34m\u001b[0m\u001b[0m\n",
      "\u001b[0;32m~/.local/lib/python3.5/site-packages/scipy/misc/pilutil.py\u001b[0m in \u001b[0;36mtoimage\u001b[0;34m(arr, high, low, cmin, cmax, pal, mode, channel_axis)\u001b[0m\n\u001b[1;32m    317\u001b[0m \u001b[0;34m\u001b[0m\u001b[0m\n\u001b[1;32m    318\u001b[0m     \"\"\"\n\u001b[0;32m--> 319\u001b[0;31m     \u001b[0mdata\u001b[0m \u001b[0;34m=\u001b[0m \u001b[0masarray\u001b[0m\u001b[0;34m(\u001b[0m\u001b[0marr\u001b[0m\u001b[0;34m)\u001b[0m\u001b[0;34m\u001b[0m\u001b[0m\n\u001b[0m\u001b[1;32m    320\u001b[0m     \u001b[0;32mif\u001b[0m \u001b[0miscomplexobj\u001b[0m\u001b[0;34m(\u001b[0m\u001b[0mdata\u001b[0m\u001b[0;34m)\u001b[0m\u001b[0;34m:\u001b[0m\u001b[0;34m\u001b[0m\u001b[0m\n\u001b[1;32m    321\u001b[0m         \u001b[0;32mraise\u001b[0m \u001b[0mValueError\u001b[0m\u001b[0;34m(\u001b[0m\u001b[0;34m\"Cannot convert a complex-valued array.\"\u001b[0m\u001b[0;34m)\u001b[0m\u001b[0;34m\u001b[0m\u001b[0m\n",
      "\u001b[0;32m~/.local/lib/python3.5/site-packages/numpy/core/numeric.py\u001b[0m in \u001b[0;36masarray\u001b[0;34m(a, dtype, order)\u001b[0m\n\u001b[1;32m    490\u001b[0m \u001b[0;34m\u001b[0m\u001b[0m\n\u001b[1;32m    491\u001b[0m     \"\"\"\n\u001b[0;32m--> 492\u001b[0;31m     \u001b[0;32mreturn\u001b[0m \u001b[0marray\u001b[0m\u001b[0;34m(\u001b[0m\u001b[0ma\u001b[0m\u001b[0;34m,\u001b[0m \u001b[0mdtype\u001b[0m\u001b[0;34m,\u001b[0m \u001b[0mcopy\u001b[0m\u001b[0;34m=\u001b[0m\u001b[0;32mFalse\u001b[0m\u001b[0;34m,\u001b[0m \u001b[0morder\u001b[0m\u001b[0;34m=\u001b[0m\u001b[0morder\u001b[0m\u001b[0;34m)\u001b[0m\u001b[0;34m\u001b[0m\u001b[0m\n\u001b[0m\u001b[1;32m    493\u001b[0m \u001b[0;34m\u001b[0m\u001b[0m\n\u001b[1;32m    494\u001b[0m \u001b[0;34m\u001b[0m\u001b[0m\n",
      "\u001b[0;31mKeyboardInterrupt\u001b[0m: "
     ]
    }
   ],
   "source": [
    "with sess.as_default():\n",
    "    espcn.train(config, True)"
   ]
  },
  {
   "cell_type": "code",
   "execution_count": null,
   "metadata": {},
   "outputs": [],
   "source": []
  },
  {
   "cell_type": "code",
   "execution_count": null,
   "metadata": {},
   "outputs": [],
   "source": []
  }
 ],
 "metadata": {
  "kernelspec": {
   "display_name": "Python 3",
   "language": "python",
   "name": "python3"
  },
  "language_info": {
   "codemirror_mode": {
    "name": "ipython",
    "version": 3
   },
   "file_extension": ".py",
   "mimetype": "text/x-python",
   "name": "python",
   "nbconvert_exporter": "python",
   "pygments_lexer": "ipython3",
   "version": "3.5.2"
  }
 },
 "nbformat": 4,
 "nbformat_minor": 1
}

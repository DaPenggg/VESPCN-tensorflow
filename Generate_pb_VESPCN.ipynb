{
 "cells": [
  {
   "cell_type": "code",
   "execution_count": 4,
   "metadata": {},
   "outputs": [
    {
     "name": "stdout",
     "output_type": "stream",
     "text": [
      "INFO:tensorflow:Restoring parameters from ./checkpoint/VSR/CDVL/VESPCN-YCbCr-x3-input3\n",
      "variable list:  [<tf.Variable 'CONV_1/kernel:0' shape=(3, 3, 3, 24) dtype=float32_ref>, <tf.Variable 'CONV_1/bias:0' shape=(24,) dtype=float32_ref>, <tf.Variable 'CONV_2/kernel:0' shape=(3, 3, 24, 24) dtype=float32_ref>, <tf.Variable 'CONV_2/bias:0' shape=(24,) dtype=float32_ref>, <tf.Variable 'CONV_3/kernel:0' shape=(3, 3, 24, 24) dtype=float32_ref>, <tf.Variable 'CONV_3/bias:0' shape=(24,) dtype=float32_ref>, <tf.Variable 'CONV_4/kernel:0' shape=(3, 3, 24, 24) dtype=float32_ref>, <tf.Variable 'CONV_4/bias:0' shape=(24,) dtype=float32_ref>, <tf.Variable 'CONV_5/kernel:0' shape=(3, 3, 24, 9) dtype=float32_ref>, <tf.Variable 'CONV_5/bias:0' shape=(9,) dtype=float32_ref>, <tf.Variable 'CONV_OUT/kernel:0' shape=(1, 1, 1, 1) dtype=float32_ref>, <tf.Variable 'CONV_OUT/bias:0' shape=(1,) dtype=float32_ref>]\n",
      "graph reset!\n",
      "Drew new graph! variable list:  []\n"
     ]
    }
   ],
   "source": [
    "#generate pb for VESPCN\n",
    "import os, time\n",
    "import tensorflow as tf\n",
    "import imageio\n",
    "from subpixel import *\n",
    "from utils import *\n",
    "\n",
    "%reload_ext autoreload\n",
    "%autoreload 2\n",
    "\n",
    "W = 720\n",
    "H = 480\n",
    "scale = 3\n",
    "#mode = \"RGB\"\n",
    "mode = \"YCbCr\"\n",
    "channel = 3\n",
    "num_input_frames = 3\n",
    "xx = True\n",
    "if mode == \"YCbCr\":\n",
    "    channel = 1\n",
    "    xx = False\n",
    "model_name = \"VESPCN-\"+str(mode)+\"-x\"+str(scale)+\"-input\"+str(num_input_frames)\n",
    "pb_name = \"VESPCN-\"+str(mode)+\"-\"+str(H)+\"-x\"+str(scale)+\"-input\"+str(num_input_frames)+\".pb\"\n",
    "\n",
    "W1 = 0\n",
    "W2 = 0\n",
    "W3 = 0\n",
    "W4 = 0\n",
    "W5 = 0\n",
    "W6 = 0\n",
    "B1 = 0\n",
    "B2 = 0\n",
    "B3 = 0\n",
    "B4 = 0\n",
    "B5 = 0\n",
    "B6 = 0\n",
    "\n",
    "tf.reset_default_graph()\n",
    "\n",
    "sess = tf.Session()\n",
    "with sess.as_default():\n",
    "    LR = tf.placeholder(tf.float32, [1, H, W, channel, num_input_frames], name= 'input')\n",
    "    LR = tf.reshape(LR, [LR.shape[0], LR.shape[1], LR.shape[2], LR.shape[3]* LR.shape[4]])\n",
    "    feature_tmp = tf.layers.conv2d(LR, 24, 3, strides = 1, padding = 'SAME', name = 'CONV_1',\n",
    "                                kernel_initializer = tf.contrib.layers.xavier_initializer(), reuse=tf.AUTO_REUSE)\n",
    "    feature_tmp = tf.nn.relu(feature_tmp)\n",
    "    feature_tmp = tf.layers.conv2d(feature_tmp, 24, 3, strides = 1, padding = 'SAME', name = 'CONV_2',\n",
    "                                kernel_initializer = tf.contrib.layers.xavier_initializer(), reuse=tf.AUTO_REUSE)\n",
    "    feature_tmp = tf.nn.relu(feature_tmp)\n",
    "    feature_tmp = tf.layers.conv2d(feature_tmp, 24, 3, strides = 1, padding = 'SAME', name = 'CONV_3',\n",
    "                                kernel_initializer = tf.contrib.layers.xavier_initializer(), reuse=tf.AUTO_REUSE)\n",
    "    feature_tmp = tf.nn.relu(feature_tmp)\n",
    "    feature_tmp = tf.layers.conv2d(feature_tmp, 24, 3, strides = 1, padding = 'SAME', name = 'CONV_4',\n",
    "                                kernel_initializer = tf.contrib.layers.xavier_initializer(), reuse=tf.AUTO_REUSE)\n",
    "    feature_tmp = tf.nn.relu(feature_tmp)\n",
    "    feature_out = tf.layers.conv2d(feature_tmp, channel*scale*scale, 3, strides = 1, padding = 'SAME', \n",
    "                   name = 'CONV_5', kernel_initializer = tf.contrib.layers.xavier_initializer(), reuse=tf.AUTO_REUSE)\n",
    "    feature_out = PS(feature_out, scale, color=xx)\n",
    "    feature_out = tf.layers.conv2d(feature_out, channel, 1, strides = 1, padding = 'SAME', \n",
    "                        name = 'CONV_OUT', kernel_initializer = tf.contrib.layers.xavier_initializer(), reuse=tf.AUTO_REUSE)\n",
    "    init_op = tf.global_variables_initializer() \n",
    "    \n",
    "    saver = tf.train.Saver()\n",
    "    saver.restore(sess, os.path.join(\"./checkpoint/VSR/CDVL\", model_name))\n",
    "\n",
    "    vv = [v for v in tf.global_variables()]\n",
    "    print(\"variable list: \", vv)\n",
    "    W1 = [v for v in tf.global_variables() if v.name == \"CONV_1/kernel:0\"][0].eval()\n",
    "    W2 = [v for v in tf.global_variables() if v.name == \"CONV_2/kernel:0\"][0].eval()\n",
    "    W3 = [v for v in tf.global_variables() if v.name == \"CONV_3/kernel:0\"][0].eval()\n",
    "    W4 = [v for v in tf.global_variables() if v.name == \"CONV_4/kernel:0\"][0].eval()\n",
    "    W5 = [v for v in tf.global_variables() if v.name == \"CONV_5/kernel:0\"][0].eval()\n",
    "    W6 = [v for v in tf.global_variables() if v.name == \"CONV_OUT/kernel:0\"][0].eval()\n",
    "    B1 = [v for v in tf.global_variables() if v.name == \"CONV_1/bias:0\"][0].eval()\n",
    "    B2 = [v for v in tf.global_variables() if v.name == \"CONV_2/bias:0\"][0].eval()\n",
    "    B3 = [v for v in tf.global_variables() if v.name == \"CONV_3/bias:0\"][0].eval()\n",
    "    B4 = [v for v in tf.global_variables() if v.name == \"CONV_4/bias:0\"][0].eval()\n",
    "    B5 = [v for v in tf.global_variables() if v.name == \"CONV_5/bias:0\"][0].eval()\n",
    "    B6 = [v for v in tf.global_variables() if v.name == \"CONV_OUT/bias:0\"][0].eval()\n",
    "\n",
    "tf.reset_default_graph()\n",
    "sess2 = tf.Session()\n",
    "print(\"graph reset!\")\n",
    "with sess2.as_default():\n",
    "    LR = tf.placeholder(tf.float32, [1, H, W, channel, num_input_frames], name= 'input')\n",
    "    LR_in = tf.reshape(LR, [LR.shape[0], LR.shape[1], LR.shape[2], LR.shape[3]* LR.shape[4]])\n",
    "    feature_tmp = tf.nn.conv2d(LR_in, W1, strides=[1, 1, 1, 1], padding='SAME')\n",
    "    feature_tmp = tf.nn.bias_add(feature_tmp, B1)\n",
    "    feature_tmp = tf.nn.relu(feature_tmp)\n",
    "    feature_tmp = tf.nn.conv2d(feature_tmp , W2, strides=[1, 1, 1, 1], padding='SAME')\n",
    "    feature_tmp = tf.nn.bias_add(feature_tmp, B2)\n",
    "    feature_tmp = tf.nn.relu(feature_tmp)\n",
    "    feature_tmp = tf.nn.conv2d(feature_tmp , W3, strides=[1, 1, 1, 1], padding='SAME')\n",
    "    feature_tmp = tf.nn.bias_add(feature_tmp, B3)\n",
    "    feature_tmp = tf.nn.relu(feature_tmp)\n",
    "    feature_tmp = tf.nn.conv2d(feature_tmp , W4, strides=[1, 1, 1, 1], padding='SAME')\n",
    "    feature_tmp = tf.nn.bias_add(feature_tmp, B4)\n",
    "    feature_tmp = tf.nn.relu(feature_tmp)\n",
    "    feature_tmp = tf.nn.conv2d(feature_tmp , W5, strides=[1, 1, 1, 1], padding='SAME')\n",
    "    feature_tmp = tf.nn.bias_add(feature_tmp, B5)\n",
    "    feature_tmp = tf.nn.relu(feature_tmp)\n",
    "    feature_out = PS(feature_tmp, scale, color=xx)\n",
    "    output_HR = tf.nn.conv2d(feature_out, W6, strides=[1, 1, 1, 1], padding='SAME')\n",
    "    output_HR = tf.nn.bias_add(output_HR, B6)\n",
    "    output_HR = tf.clip_by_value(output_HR, 0, 255, name = 'output')\n",
    "    #output_HR = tf.add(tf.multiply(tf.add(tf.nn.tanh(feature_out),1),(235-16)/2), 16, name = 'output') #Y range is in 16-235\n",
    "    tf.train.write_graph(sess2.graph_def, \"./checkpoint/pb\", pb_name, as_text=False)\n",
    "\n",
    "    vv = [v for v in tf.global_variables()]\n",
    "    print(\"Drew new graph! variable list: \", vv)"
   ]
  },
  {
   "cell_type": "code",
   "execution_count": 22,
   "metadata": {},
   "outputs": [
    {
     "name": "stderr",
     "output_type": "stream",
     "text": [
      "/usr/local/lib/python3.5/dist-packages/ipykernel_launcher.py:1: DeprecationWarning: `imread` is deprecated!\n",
      "`imread` is deprecated in SciPy 1.0.0, and will be removed in 1.2.0.\n",
      "Use ``imageio.imread`` instead.\n",
      "  \"\"\"Entry point for launching an IPython kernel.\n",
      "/usr/local/lib/python3.5/dist-packages/ipykernel_launcher.py:2: DeprecationWarning: `imread` is deprecated!\n",
      "`imread` is deprecated in SciPy 1.0.0, and will be removed in 1.2.0.\n",
      "Use ``imageio.imread`` instead.\n",
      "  \n",
      "/usr/local/lib/python3.5/dist-packages/ipykernel_launcher.py:3: DeprecationWarning: `imread` is deprecated!\n",
      "`imread` is deprecated in SciPy 1.0.0, and will be removed in 1.2.0.\n",
      "Use ``imageio.imread`` instead.\n",
      "  This is separate from the ipykernel package so we can avoid doing imports until\n"
     ]
    },
    {
     "name": "stdout",
     "output_type": "stream",
     "text": [
      "runtime: 0.011918\n",
      "(1, 1440, 2160, 1)\n"
     ]
    },
    {
     "data": {
      "text/plain": [
       "0"
      ]
     },
     "execution_count": 22,
     "metadata": {},
     "output_type": "execute_result"
    }
   ],
   "source": [
    "img0 = scipy.misc.imread(os.path.join(\"/home/johnyi/deeplearning/research/VSR_Datasets/test/vid4/walk/001.png\"), mode = \"YCbCr\")\n",
    "img1 = scipy.misc.imread(os.path.join(\"/home/johnyi/deeplearning/research/VSR_Datasets/test/vid4/walk/002.png\"), mode = \"YCbCr\")\n",
    "img2 = scipy.misc.imread(os.path.join(\"/home/johnyi/deeplearning/research/VSR_Datasets/test/vid4/walk/003.png\"), mode = \"YCbCr\")\n",
    "Y0 = np.split(img0, 3, axis=2)[0]\n",
    "Y1 = np.split(img1, 3, axis=2)[0]\n",
    "Y2 = np.split(img2, 3, axis=2)[0]\n",
    "Cb = np.split(img1, 3, axis=2)[1]\n",
    "Cr = np.split(img2, 3, axis=2)[2]\n",
    "img = np.zeros([1, H, W, 1, 3])\n",
    "img[0, :,:,:, 0] = Y0\n",
    "img[0, :,:,:, 1] = Y1\n",
    "img[0, :,:,:, 2] = Y2\n",
    "start_time = time.time()\n",
    "[out] = sess2.run([output_HR], feed_dict={LR: img})\n",
    "print(\"runtime: %.6f\" %(time.time()-start_time))\n",
    "out = np.round(out).astype(\"uint8\")\n",
    "print(out.shape)\n",
    "save_ycbcr_img(out[0], Cb, Cr, 3, \"test.png\")"
   ]
  },
  {
   "cell_type": "code",
   "execution_count": 37,
   "metadata": {},
   "outputs": [
    {
     "name": "stdout",
     "output_type": "stream",
     "text": [
      "Tensor(\"import/output:0\", shape=(?, 768, 768, 1), dtype=float32)\n",
      "runtime: 0.071890\n",
      "out size: (768, 768, 1) 16 235\n",
      "out size: (256, 1) 88 129\n",
      "out size: (256, 1) 125 168\n"
     ]
    },
    {
     "name": "stderr",
     "output_type": "stream",
     "text": [
      "/usr/local/lib/python3.5/dist-packages/ipykernel_launcher.py:34: DeprecationWarning: `imresize` is deprecated!\n",
      "`imresize` is deprecated in SciPy 1.0.0, and will be removed in 1.2.0.\n",
      "Use ``skimage.transform.resize`` instead.\n",
      "/usr/local/lib/python3.5/dist-packages/ipykernel_launcher.py:52: DeprecationWarning: `imresize` is deprecated!\n",
      "`imresize` is deprecated in SciPy 1.0.0, and will be removed in 1.2.0.\n",
      "Use ``skimage.transform.resize`` instead.\n"
     ]
    },
    {
     "name": "stdout",
     "output_type": "stream",
     "text": [
      "0.002203\n",
      "0.002260\n",
      "0.002369\n",
      "0.002322\n",
      "0.002267\n",
      "0.002225\n",
      "0.002291\n",
      "0.002165\n",
      "0.002220\n",
      "0.002680\n",
      "avg: 0.002300\n"
     ]
    }
   ],
   "source": [
    "# Test loading pb file (YCbCr)\n",
    "from tensorflow.core.framework import graph_pb2\n",
    "import os\n",
    "import time\n",
    "import numpy as np\n",
    "\n",
    "W = 256\n",
    "H = 256\n",
    "scale = 3\n",
    "mode = \"YCbCr\"\n",
    "channel = 3\n",
    "xx = True\n",
    "if mode == \"YCbCr\":\n",
    "    channel = 1\n",
    "    xx = False\n",
    "\n",
    "pb_name = \"ESPCN-\"+str(mode)+\"-\"+str(H)+\"-x\"+str(scale)+\".pb\"\n",
    "tf.reset_default_graph()\n",
    "sess = tf.Session()\n",
    "with sess.as_default():        \n",
    "    with open(os.path.join('./checkpoint/pb/', pb_name), 'rb') as f:\n",
    "        input_LR = tf.placeholder(tf.float32, [None, H, W, channel], name='input')\n",
    "        #graph_def = tf.GraphDef()\n",
    "        graph_def = graph_pb2.GraphDef()\n",
    "        graph_def.ParseFromString(f.read())\n",
    "        output = tf.import_graph_def(graph_def, input_map={'input:0': input_LR}, return_elements=['output:0'])\n",
    "        output = output[0]\n",
    "        #x = sess.graph.get_operations()\n",
    "        #print(\"ops:\",x)\n",
    "        print(output)\n",
    "        \n",
    "        img = load_image(os.path.join(\"/home/johnyi/deeplearning/research/SISR_Datasets/test/Set5/baby.png\"), \"YCbCr\")\n",
    "        img = doresize(img, [H, W])\n",
    "        Y_bicubic = np.split(imresize(img,[scale*H, scale*W], interp='bicubic'),3,axis=2)[0]\n",
    "        Y_LR = np.split(img,3, axis=2)[0]\n",
    "        Cb_LR = np.split(img,3, axis=2)[1]\n",
    "        Cr_LR = np.split(img,3, axis=2)[2]\n",
    "        start_time = time.time()\n",
    "        [out] = sess.run([output], feed_dict={input_LR: [Y_LR]})\n",
    "        print(\"runtime: %.6f\" %(time.time()-start_time))\n",
    "        out = np.round(out).astype(\"uint8\")\n",
    "        print(\"out size:\",out[0].shape, np.min(out[0]), np.max(out[0]))\n",
    "        print(\"out size:\",Cb_LR[0].shape, np.min(Cb_LR[0]), np.max(Cb_LR[0]))\n",
    "        print(\"out size:\",Cr_LR[0].shape, np.min(Cr_LR[0]), np.max(Cr_LR[0]))\n",
    "        save_ycbcr_img(out[0], Cb_LR, Cr_LR, scale, \"./test.png\")\n",
    "        save_ycbcr_img(Y_bicubic, Cb_LR, Cr_LR, scale, \"./test_bicubic.png\")\n",
    "        \n",
    "runtimes = []\n",
    "for i in range(0,10):\n",
    "    img = load_image(os.path.join(\"/home/johnyi/deeplearning/research/SISR_Datasets/test/Set5/baby.png\"), \"YCbCr\")\n",
    "    img = doresize(img, [H, W])\n",
    "    Y_bicubic = np.split(imresize(img,[scale*H, scale*W], interp='bicubic'),3,axis=2)[0]\n",
    "    Y_LR = np.split(img,3, axis=2)[0]\n",
    "    Cb_LR = np.split(img,3, axis=2)[1]\n",
    "    Cr_LR = np.split(img,3, axis=2)[2]\n",
    "    start_time = time.time()\n",
    "    [out] = sess.run([output], feed_dict={input_LR: [Y_LR]})\n",
    "    runtime = time.time()-start_time\n",
    "    print(\"%.6f\" %(runtime))\n",
    "    runtimes.append(runtime)\n",
    "    #print(\"runtime: %.6f\" %(time.time()-start_time))\n",
    "    out = np.round(out).astype(\"uint8\")\n",
    "    #print(\"out size:\",out[0].shape, np.min(out[0]), np.max(out[0]))\n",
    "    #print(\"out size:\",Cb_LR[0].shape, np.min(Cb_LR[0]), np.max(Cb_LR[0]))\n",
    "    #print(\"out size:\",Cr_LR[0].shape, np.min(Cr_LR[0]), np.max(Cr_LR[0]))\n",
    "print('avg: %.6f' %(np.sum(runtimes)/len(runtimes)))"
   ]
  },
  {
   "cell_type": "code",
   "execution_count": 89,
   "metadata": {},
   "outputs": [
    {
     "name": "stdout",
     "output_type": "stream",
     "text": [
      "runtime: 0.005253\n",
      "out size: (1134, 1512, 1) 16 235\n",
      "out size: (504, 1) 89 129\n",
      "out size: (504, 1) 125 168\n"
     ]
    },
    {
     "name": "stderr",
     "output_type": "stream",
     "text": [
      "/usr/local/lib/python3.5/dist-packages/ipykernel_launcher.py:3: DeprecationWarning: `imresize` is deprecated!\n",
      "`imresize` is deprecated in SciPy 1.0.0, and will be removed in 1.2.0.\n",
      "Use ``skimage.transform.resize`` instead.\n",
      "  This is separate from the ipykernel package so we can avoid doing imports until\n"
     ]
    }
   ],
   "source": [
    "img = load_image(os.path.join(\"/home/johnyi/deeplearning/research/SISR_Datasets/test/Set5/baby.png\"), \"YCbCr\")\n",
    "img = doresize(img, [H, W])\n",
    "Y_bicubic = np.split(imresize(img,[scale*H, scale*W], interp='bicubic'),3,axis=2)[0]\n",
    "Y_LR = np.split(img,3, axis=2)[0]\n",
    "Cb_LR = np.split(img,3, axis=2)[1]\n",
    "Cr_LR = np.split(img,3, axis=2)[2]\n",
    "start_time = time.time()\n",
    "[out] = sess.run([output_HR], feed_dict={input_LR: [Y_LR]})\n",
    "print(\"runtime: %.6f\" %(time.time()-start_time))\n",
    "out = np.round(out).astype(\"uint8\")\n",
    "print(\"out size:\",out[0].shape, np.min(out[0]), np.max(out[0]))\n",
    "print(\"out size:\",Cb_LR[0].shape, np.min(Cb_LR[0]), np.max(Cb_LR[0]))\n",
    "print(\"out size:\",Cr_LR[0].shape, np.min(Cr_LR[0]), np.max(Cr_LR[0]))\n",
    "#save_ycbcr_img(out[0], Cb_LR, Cr_LR, scale, \"./test.png\")\n",
    "#save_ycbcr_img(Y_bicubic, Cb_LR, Cr_LR, scale, \"./test_bicubic.png\")"
   ]
  },
  {
   "cell_type": "code",
   "execution_count": null,
   "metadata": {},
   "outputs": [],
   "source": []
  }
 ],
 "metadata": {
  "kernelspec": {
   "display_name": "Python 3",
   "language": "python",
   "name": "python3"
  },
  "language_info": {
   "codemirror_mode": {
    "name": "ipython",
    "version": 3
   },
   "file_extension": ".py",
   "mimetype": "text/x-python",
   "name": "python",
   "nbconvert_exporter": "python",
   "pygments_lexer": "ipython3",
   "version": "3.5.2"
  }
 },
 "nbformat": 4,
 "nbformat_minor": 1
}

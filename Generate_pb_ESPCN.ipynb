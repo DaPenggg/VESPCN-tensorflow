{
 "cells": [
  {
   "cell_type": "code",
   "execution_count": 5,
   "metadata": {},
   "outputs": [
    {
     "name": "stdout",
     "output_type": "stream",
     "text": [
      "INFO:tensorflow:Restoring parameters from ./checkpoint/DIV2K/ESPCN-YCbCr-x3\n",
      "variable list:  [<tf.Variable 'CONV_1/kernel:0' shape=(5, 5, 1, 64) dtype=float32_ref>, <tf.Variable 'CONV_1/bias:0' shape=(64,) dtype=float32_ref>, <tf.Variable 'CONV_2/kernel:0' shape=(3, 3, 64, 32) dtype=float32_ref>, <tf.Variable 'CONV_2/bias:0' shape=(32,) dtype=float32_ref>, <tf.Variable 'CONV_3/kernel:0' shape=(3, 3, 32, 9) dtype=float32_ref>, <tf.Variable 'CONV_3/bias:0' shape=(9,) dtype=float32_ref>, <tf.Variable 'CONV_OUT/kernel:0' shape=(1, 1, 1, 1) dtype=float32_ref>, <tf.Variable 'CONV_OUT/bias:0' shape=(1,) dtype=float32_ref>]\n",
      "graph reset!\n",
      "Drew new graph! variable list:  []\n"
     ]
    }
   ],
   "source": [
    "#generate pb for ESPCN\n",
    "import os, time\n",
    "import tensorflow as tf\n",
    "import imageio\n",
    "from subpixel import *\n",
    "from utils import *\n",
    "\n",
    "%reload_ext autoreload\n",
    "%autoreload 2\n",
    "\n",
    "W = 720 #720\n",
    "H = 480 #480\n",
    "scale = 3\n",
    "mode = \"YCbCr\"#\"RGB\"\n",
    "channel = 3\n",
    "xx = True\n",
    "if mode == \"YCbCr\":\n",
    "    channel = 1\n",
    "    xx = False\n",
    "model_name = \"ESPCN-\"+str(mode)+\"-x\"+str(scale)\n",
    "pb_name = \"ESPCN-\"+str(mode)+\"-\"+str(H)+\"-x\"+str(scale)+\".pb\"\n",
    "\n",
    "W1 = 0\n",
    "W2 = 0\n",
    "W3 = 0\n",
    "W4 = 0\n",
    "B1 = 0\n",
    "B2 = 0\n",
    "B3 = 0\n",
    "B4 = 0\n",
    "\n",
    "tf.reset_default_graph()\n",
    "\n",
    "sess = tf.Session()\n",
    "with sess.as_default():\n",
    "    input_LR = tf.placeholder(tf.float32, [None, H, W, channel], name='input')\n",
    "    feature_tmp = tf.layers.conv2d(input_LR, 64, 5, strides = 1, padding = 'SAME', name = 'CONV_1',\n",
    "                                kernel_initializer = tf.contrib.layers.xavier_initializer(), reuse=tf.AUTO_REUSE)\n",
    "    feature_tmp = tf.nn.relu(feature_tmp)\n",
    "    feature_tmp = tf.layers.conv2d(feature_tmp, 32, 3, strides = 1, padding = 'SAME', name = 'CONV_2',\n",
    "                                kernel_initializer = tf.contrib.layers.xavier_initializer(), reuse=tf.AUTO_REUSE)\n",
    "    feature_tmp = tf.nn.relu(feature_tmp)\n",
    "    feature_out = tf.layers.conv2d(feature_tmp, channel*scale*scale, 3, strides = 1, padding = 'SAME', \n",
    "                   name = 'CONV_3', kernel_initializer = tf.contrib.layers.xavier_initializer(), reuse=tf.AUTO_REUSE)\n",
    "    feature_out = PS(feature_out, scale, color=xx)\n",
    "    output_HR = tf.layers.conv2d(feature_out, channel, 1, strides = 1, padding = 'SAME', \n",
    "                        name = 'CONV_OUT', kernel_initializer = tf.contrib.layers.xavier_initializer(), reuse=tf.AUTO_REUSE)\n",
    "    #output_HR = tf.add(tf.multiply(tf.add(tf.nn.tanh(feature_out),1),(235-16)/2), 16, name = 'output') #Y range is in 16-235\n",
    "    init_op = tf.global_variables_initializer() \n",
    "    \n",
    "    saver = tf.train.Saver()\n",
    "    saver.restore(sess, os.path.join(\"./checkpoint/DIV2K\", model_name))\n",
    "    vv = [v for v in tf.global_variables()]\n",
    "    print(\"variable list: \", vv)\n",
    "    W1 = [v for v in tf.global_variables() if v.name == \"CONV_1/kernel:0\"][0].eval()\n",
    "    W2 = [v for v in tf.global_variables() if v.name == \"CONV_2/kernel:0\"][0].eval()\n",
    "    W3 = [v for v in tf.global_variables() if v.name == \"CONV_3/kernel:0\"][0].eval()\n",
    "    W4 = [v for v in tf.global_variables() if v.name == \"CONV_OUT/kernel:0\"][0].eval()\n",
    "    B1 = [v for v in tf.global_variables() if v.name == \"CONV_1/bias:0\"][0].eval()\n",
    "    B2 = [v for v in tf.global_variables() if v.name == \"CONV_2/bias:0\"][0].eval()\n",
    "    B3 = [v for v in tf.global_variables() if v.name == \"CONV_3/bias:0\"][0].eval()\n",
    "    B4 = [v for v in tf.global_variables() if v.name == \"CONV_OUT/bias:0\"][0].eval()\n",
    "\n",
    "tf.reset_default_graph()\n",
    "sess2 = tf.Session()\n",
    "print(\"graph reset!\")\n",
    "with sess2.as_default():\n",
    "    input_LR = tf.placeholder(tf.float32, [1, H, W, channel], name='input')\n",
    "    feature_tmp = tf.nn.conv2d(input_LR, W1, strides=[1, 1, 1, 1], padding='SAME')\n",
    "    feature_tmp = tf.nn.bias_add(feature_tmp, B1)\n",
    "    feature_tmp = tf.nn.relu(feature_tmp)\n",
    "    feature_tmp = tf.nn.conv2d(feature_tmp , W2, strides=[1, 1, 1, 1], padding='SAME')\n",
    "    feature_tmp = tf.nn.bias_add(feature_tmp, B2)\n",
    "    feature_tmp = tf.nn.relu(feature_tmp)\n",
    "    feature_tmp = tf.nn.conv2d(feature_tmp , W3, strides=[1, 1, 1, 1], padding='SAME')\n",
    "    feature_out = tf.nn.bias_add(feature_tmp, B3)\n",
    "    feature_out = PS(feature_out, scale, color=xx)\n",
    "    output_HR = tf.nn.conv2d(feature_out, W4, strides=[1,1,1,1], padding='SAME')\n",
    "    output_HR = tf.nn.bias_add(output_HR, B4)\n",
    "    output_HR = tf.clip_by_value(output_HR, 0, 255, name = 'output')\n",
    "    #output_HR = tf.add(tf.multiply(tf.add(tf.nn.tanh(feature_out),1),(235-16)/2), 16, name = 'output') #Y range is in 16-235\n",
    "    tf.train.write_graph(sess2.graph_def, \"./checkpoint/pb\", pb_name, as_text=False)\n",
    "    #tf.train.write_graph(sess2.graph_def, \"./checkpoint/pb\", 'ESPCN.pbtxt', as_text=True)\n",
    "    #LOGDIR='./logs'\n",
    "    #train_writer = tf.summary.FileWriter(LOGDIR)\n",
    "    #train_writer.add_graph(sess2.graph)\n",
    "    vv = [v for v in tf.global_variables()]\n",
    "    print(\"Drew new graph! variable list: \", vv)"
   ]
  },
  {
   "cell_type": "code",
   "execution_count": 7,
   "metadata": {},
   "outputs": [
    {
     "name": "stdout",
     "output_type": "stream",
     "text": [
      "runtime: 0.010543\n",
      "out shape: (1, 1440, 2160, 1)\n"
     ]
    },
    {
     "data": {
      "text/plain": [
       "0"
      ]
     },
     "execution_count": 7,
     "metadata": {},
     "output_type": "execute_result"
    }
   ],
   "source": [
    "img = load_image(os.path.join(\"/home/johnyi/deeplearning/research/SISR_Datasets/test/Set5/baby.png\"), mode)\n",
    "img = doresize(img, [H, W])\n",
    "Y = np.split(img, 3, axis=2)[0]\n",
    "Cb = np.split(img, 3, axis=2)[1]\n",
    "Cr = np.split(img, 3, axis=2)[2]\n",
    "start_time = time.time()\n",
    "[out] = sess2.run([output_HR], feed_dict={input_LR: [Y]})\n",
    "print(\"runtime: %.6f\" %(time.time()-start_time))\n",
    "#out = np.round(out).astype(\"uint8\")\n",
    "out = out.astype(\"uint8\")\n",
    "print(\"out shape:\",out.shape)\n",
    "save_ycbcr_img(out[0], Cb, Cr, 3, \"test.png\")\n",
    "#imageio.imwrite(\"test.png\",out[0])"
   ]
  },
  {
   "cell_type": "code",
   "execution_count": 3,
   "metadata": {},
   "outputs": [
    {
     "name": "stdout",
     "output_type": "stream",
     "text": [
      "Tensor(\"import/output:0\", shape=(?, 768, 768, 1), dtype=float32)\n"
     ]
    },
    {
     "name": "stderr",
     "output_type": "stream",
     "text": [
      "/usr/local/lib/python3.5/dist-packages/ipykernel_launcher.py:34: DeprecationWarning: `imresize` is deprecated!\n",
      "`imresize` is deprecated in SciPy 1.0.0, and will be removed in 1.2.0.\n",
      "Use ``skimage.transform.resize`` instead.\n"
     ]
    },
    {
     "name": "stdout",
     "output_type": "stream",
     "text": [
      "runtime: 0.631590\n",
      "out size: (768, 768, 1) 0 255\n",
      "out size: (256, 1) 88 129\n",
      "out size: (256, 1) 125 168\n",
      "0.002280\n",
      "0.002200\n",
      "0.002264\n",
      "0.002256\n",
      "0.002234\n",
      "0.002265\n",
      "0.002338\n",
      "0.002237\n",
      "0.002183\n",
      "0.002322\n",
      "avg: 0.002258\n"
     ]
    },
    {
     "name": "stderr",
     "output_type": "stream",
     "text": [
      "/usr/local/lib/python3.5/dist-packages/ipykernel_launcher.py:52: DeprecationWarning: `imresize` is deprecated!\n",
      "`imresize` is deprecated in SciPy 1.0.0, and will be removed in 1.2.0.\n",
      "Use ``skimage.transform.resize`` instead.\n"
     ]
    }
   ],
   "source": [
    "# Test loading pb file (YCbCr)\n",
    "from tensorflow.core.framework import graph_pb2\n",
    "import os\n",
    "import time\n",
    "import numpy as np\n",
    "\n",
    "W = 256\n",
    "H = 256\n",
    "scale = 3\n",
    "mode = \"YCbCr\"\n",
    "channel = 3\n",
    "xx = True\n",
    "if mode == \"YCbCr\":\n",
    "    channel = 1\n",
    "    xx = False\n",
    "\n",
    "pb_name = \"ESPCN-\"+str(mode)+\"-\"+str(H)+\"-x\"+str(scale)+\".pb\"\n",
    "tf.reset_default_graph()\n",
    "sess = tf.Session()\n",
    "with sess.as_default():        \n",
    "    with open(os.path.join('./checkpoint/pb/', pb_name), 'rb') as f:\n",
    "        input_LR = tf.placeholder(tf.float32, [None, H, W, channel], name='input')\n",
    "        #graph_def = tf.GraphDef()\n",
    "        graph_def = graph_pb2.GraphDef()\n",
    "        graph_def.ParseFromString(f.read())\n",
    "        output = tf.import_graph_def(graph_def, input_map={'input:0': input_LR}, return_elements=['output:0'])\n",
    "        output = output[0]\n",
    "        #x = sess.graph.get_operations()\n",
    "        #print(\"ops:\",x)\n",
    "        print(output)\n",
    "        \n",
    "        img = load_image(os.path.join(\"/home/johnyi/deeplearning/research/SISR_Datasets/test/Set5/baby.png\"), \"YCbCr\")\n",
    "        img = doresize(img, [H, W])\n",
    "        Y_bicubic = np.split(imresize(img,[scale*H, scale*W], interp='bicubic'),3,axis=2)[0]\n",
    "        Y_LR = np.split(img,3, axis=2)[0]\n",
    "        Cb_LR = np.split(img,3, axis=2)[1]\n",
    "        Cr_LR = np.split(img,3, axis=2)[2]\n",
    "        start_time = time.time()\n",
    "        [out] = sess.run([output], feed_dict={input_LR: [Y_LR]})\n",
    "        print(\"runtime: %.6f\" %(time.time()-start_time))\n",
    "        out = out.astype(\"uint8\")\n",
    "        print(\"out size:\",out[0].shape, np.min(out[0]), np.max(out[0]))\n",
    "        print(\"out size:\",Cb_LR[0].shape, np.min(Cb_LR[0]), np.max(Cb_LR[0]))\n",
    "        print(\"out size:\",Cr_LR[0].shape, np.min(Cr_LR[0]), np.max(Cr_LR[0]))\n",
    "        save_ycbcr_img(out[0], Cb_LR, Cr_LR, scale, \"./test.png\")\n",
    "        save_ycbcr_img(Y_bicubic, Cb_LR, Cr_LR, scale, \"./test_bicubic.png\")\n",
    "        \n",
    "runtimes = []\n",
    "for i in range(0,10):\n",
    "    img = load_image(os.path.join(\"/home/johnyi/deeplearning/research/SISR_Datasets/test/Set5/baby.png\"), \"YCbCr\")\n",
    "    img = doresize(img, [H, W])\n",
    "    Y_bicubic = np.split(imresize(img,[scale*H, scale*W], interp='bicubic'),3,axis=2)[0]\n",
    "    Y_LR = np.split(img,3, axis=2)[0]\n",
    "    Cb_LR = np.split(img,3, axis=2)[1]\n",
    "    Cr_LR = np.split(img,3, axis=2)[2]\n",
    "    start_time = time.time()\n",
    "    [out] = sess.run([output], feed_dict={input_LR: [Y_LR]})\n",
    "    runtime = time.time()-start_time\n",
    "    print(\"%.6f\" %(runtime))\n",
    "    runtimes.append(runtime)\n",
    "    #print(\"runtime: %.6f\" %(time.time()-start_time))\n",
    "    out = out.astype(\"uint8\")\n",
    "    #print(\"out size:\",out[0].shape, np.min(out[0]), np.max(out[0]))\n",
    "    #print(\"out size:\",Cb_LR[0].shape, np.min(Cb_LR[0]), np.max(Cb_LR[0]))\n",
    "    #print(\"out size:\",Cr_LR[0].shape, np.min(Cr_LR[0]), np.max(Cr_LR[0]))\n",
    "print('avg: %.6f' %(np.sum(runtimes)/len(runtimes)))"
   ]
  },
  {
   "cell_type": "code",
   "execution_count": 5,
   "metadata": {},
   "outputs": [
    {
     "name": "stdout",
     "output_type": "stream",
     "text": [
      "runtime: 0.002226\n",
      "out size: (768, 768, 1) 0 255\n",
      "out size: (256, 1) 88 129\n",
      "out size: (256, 1) 125 168\n"
     ]
    },
    {
     "name": "stderr",
     "output_type": "stream",
     "text": [
      "/usr/local/lib/python3.5/dist-packages/ipykernel_launcher.py:3: DeprecationWarning: `imresize` is deprecated!\n",
      "`imresize` is deprecated in SciPy 1.0.0, and will be removed in 1.2.0.\n",
      "Use ``skimage.transform.resize`` instead.\n",
      "  This is separate from the ipykernel package so we can avoid doing imports until\n"
     ]
    }
   ],
   "source": [
    "img = load_image(os.path.join(\"/home/johnyi/deeplearning/research/SISR_Datasets/test/Set5/baby.png\"), \"YCbCr\")\n",
    "img = doresize(img, [H, W])\n",
    "Y_bicubic = np.split(imresize(img,[scale*H, scale*W], interp='bicubic'),3,axis=2)[0]\n",
    "Y_LR = np.split(img,3, axis=2)[0]\n",
    "Cb_LR = np.split(img,3, axis=2)[1]\n",
    "Cr_LR = np.split(img,3, axis=2)[2]\n",
    "start_time = time.time()\n",
    "[out] = sess.run([output], feed_dict={input_LR: [Y_LR]})\n",
    "print(\"runtime: %.6f\" %(time.time()-start_time))\n",
    "out = np.round(out).astype(\"uint8\")\n",
    "print(\"out size:\",out[0].shape, np.min(out[0]), np.max(out[0]))\n",
    "print(\"out size:\",Cb_LR[0].shape, np.min(Cb_LR[0]), np.max(Cb_LR[0]))\n",
    "print(\"out size:\",Cr_LR[0].shape, np.min(Cr_LR[0]), np.max(Cr_LR[0]))\n",
    "#save_ycbcr_img(out[0], Cb_LR, Cr_LR, scale, \"./test.png\")\n",
    "#save_ycbcr_img(Y_bicubic, Cb_LR, Cr_LR, scale, \"./test_bicubic.png\")"
   ]
  },
  {
   "cell_type": "code",
   "execution_count": null,
   "metadata": {},
   "outputs": [],
   "source": []
  }
 ],
 "metadata": {
  "kernelspec": {
   "display_name": "Python 3",
   "language": "python",
   "name": "python3"
  },
  "language_info": {
   "codemirror_mode": {
    "name": "ipython",
    "version": 3
   },
   "file_extension": ".py",
   "mimetype": "text/x-python",
   "name": "python",
   "nbconvert_exporter": "python",
   "pygments_lexer": "ipython3",
   "version": "3.5.2"
  }
 },
 "nbformat": 4,
 "nbformat_minor": 1
}

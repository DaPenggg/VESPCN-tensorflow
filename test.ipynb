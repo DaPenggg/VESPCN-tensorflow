{
 "cells": [
  {
   "cell_type": "code",
   "execution_count": 20,
   "metadata": {},
   "outputs": [
    {
     "name": "stderr",
     "output_type": "stream",
     "text": [
      "/usr/local/lib/python3.5/dist-packages/ipykernel_launcher.py:6: DeprecationWarning: `imread` is deprecated!\n",
      "`imread` is deprecated in SciPy 1.0.0, and will be removed in 1.2.0.\n",
      "Use ``imageio.imread`` instead.\n",
      "  \n",
      "/usr/local/lib/python3.5/dist-packages/ipykernel_launcher.py:7: DeprecationWarning: `imresize` is deprecated!\n",
      "`imresize` is deprecated in SciPy 1.0.0, and will be removed in 1.2.0.\n",
      "Use ``skimage.transform.resize`` instead.\n",
      "  import sys\n",
      "/usr/local/lib/python3.5/dist-packages/ipykernel_launcher.py:8: DeprecationWarning: `imresize` is deprecated!\n",
      "`imresize` is deprecated in SciPy 1.0.0, and will be removed in 1.2.0.\n",
      "Use ``skimage.transform.resize`` instead.\n",
      "  \n"
     ]
    },
    {
     "name": "stdout",
     "output_type": "stream",
     "text": [
      "shape: (480, 720, 1) (480, 720, 1) (480, 720, 1) (480, 720, 3)\n"
     ]
    }
   ],
   "source": [
    "import scipy.misc\n",
    "import imageio\n",
    "import numpy as np\n",
    "import cv2\n",
    "\n",
    "original = scipy.misc.imread(\"/home/johnyi/deeplearning/research/VSR_Datasets/test/vid4/foliage/001.png\", mode = \"YCbCr\")\n",
    "LR = scipy.misc.imresize(original, (160, 240), interp = 'bicubic')\n",
    "bicubic = scipy.misc.imresize(LR, (480, 720), interp = 'bicubic')\n",
    "\n",
    "Y = np.split(original, 3, axis=2)[0]\n",
    "Cb = np.split(original, 3, axis=2)[1]\n",
    "Cr = np.split(original, 3, axis=2)[2]\n",
    "img_ycbcr = np.dstack((Y, Cr, Cb))\n",
    "print(\"shape:\",Y.shape,Cb.shape,Cr.shape,img_ycbcr.shape)\n",
    "img_rgb = cv2.cvtColor(img_ycbcr, cv2.COLOR_YCrCb2RGB)\n",
    "imageio.imwrite(\"test_original.png\", img_rgb)\n",
    "\n",
    "Y_LR = np.split(LR, 3, axis=2)[0]\n",
    "Cb_LR = np.split(LR, 3, axis=2)[1]\n",
    "Cr_LR = np.split(LR, 3, axis=2)[2]\n",
    "\n",
    "#bicubic\n",
    "Y_bicubic = np.split(bicubic, 3, axis=2)[0]\n",
    "Cb_bicubic = np.split(bicubic, 3, axis=2)[1]\n",
    "Cr_bicubic = np.split(bicubic, 3, axis=2)[2]\n",
    "img_ycbcr = np.dstack((Y_bicubic, Cr_bicubic, Cb_bicubic))\n",
    "#print(\"shape:\",Y.shape,Cb.shape,Cr.shape,img_ycbcr.shape)\n",
    "img_rgb = cv2.cvtColor(img_ycbcr, cv2.COLOR_YCrCb2RGB)\n",
    "imageio.imwrite(\"test_bicubic.png\", img_rgb)\n",
    "\n",
    "scale = 3\n",
    "# upscale Cb and Cr\n",
    "Y_repeat = Y_LR.repeat(scale, axis = 0).repeat(scale, axis = 1)\n",
    "Cb_repeat = Cb_LR.repeat(scale, axis = 0).repeat(scale, axis = 1)\n",
    "Cr_repeat = Cr_LR.repeat(scale, axis = 0).repeat(scale, axis = 1)\n",
    "# stack and save\n",
    "#img_ycbcr = np.dstack((Y_repeat, Cr_repeat, Cb_repeat))\n",
    "img_ycbcr = np.dstack((Y_repeat, Cr_bicubic, Cb_bicubic))\n",
    "#print(\"shape:\",Y.shape,Cb.shape,Cr.shape,img_ycbcr.shape)\n",
    "img_rgb = cv2.cvtColor(img_ycbcr, cv2.COLOR_YCrCb2RGB)\n",
    "imageio.imwrite(\"test_repeat.png\", img_rgb)"
   ]
  },
  {
   "cell_type": "code",
   "execution_count": 4,
   "metadata": {},
   "outputs": [
    {
     "name": "stderr",
     "output_type": "stream",
     "text": [
      "/usr/local/lib/python3.5/dist-packages/ipykernel_launcher.py:6: DeprecationWarning: `imread` is deprecated!\n",
      "`imread` is deprecated in SciPy 1.0.0, and will be removed in 1.2.0.\n",
      "Use ``imageio.imread`` instead.\n",
      "  \n"
     ]
    },
    {
     "name": "stdout",
     "output_type": "stream",
     "text": [
      "(480, 720, 3)\n",
      "(720, 480, 3)\n"
     ]
    }
   ],
   "source": [
    "import scipy.misc\n",
    "import imageio\n",
    "import numpy as np\n",
    "import cv2\n",
    "\n",
    "original = scipy.misc.imread(\"/home/johnyi/deeplearning/research/VSR_Datasets/test/vid4/foliage/001.png\", mode = \"RGB\")\n",
    "flipped_0 = np.flip(original, axis = 0)\n",
    "flipped_1 = np.flip(original, axis = 1)\n",
    "rotated = np.rot90(original)\n",
    "print(flipped.shape)\n",
    "print(rotated.shape)\n",
    "\n",
    "imageio.imwrite(\"test_original.png\", original)\n",
    "imageio.imwrite(\"test_flip_0.png\", flipped_0)\n",
    "imageio.imwrite(\"test_flip_1.png\", flipped_1)\n",
    "imageio.imwrite(\"test_rotated.png\", rotated)"
   ]
  },
  {
   "cell_type": "code",
   "execution_count": 2,
   "metadata": {},
   "outputs": [
    {
     "name": "stderr",
     "output_type": "stream",
     "text": [
      "/usr/local/lib/python3.5/dist-packages/ipykernel_launcher.py:5: DeprecationWarning: `imread` is deprecated!\n",
      "`imread` is deprecated in SciPy 1.0.0, and will be removed in 1.2.0.\n",
      "Use ``imageio.imread`` instead.\n",
      "  \"\"\"\n"
     ]
    },
    {
     "name": "stdout",
     "output_type": "stream",
     "text": [
      "output: (576, 720, 3)\n",
      "sampled index: [     0      0      1 ... 414717 414718 414719]\n",
      "base: [0 0 0 ... 0 0 0]\n",
      "x0: [  0   0   0 ... 575 575 575] (414720,) y0: [  0   0   1 ... 717 718 719] (414720,)\n",
      "x_coords: [-1. -1. -1. ...  1.  1.  1.] 0.0\n",
      "y_coords: [-1.         -0.99721836 -0.99443672 ...  0.99443672  0.99721836\n",
      "  1.        ]\n",
      "-7.702376\n"
     ]
    },
    {
     "name": "stderr",
     "output_type": "stream",
     "text": [
      "/home/johnyi/.local/lib/python3.5/site-packages/imageio/core/util.py:104: UserWarning: Conversion from float32 to uint8, range [0.0, 255.0]\n",
      "  'range [{2}, {3}]'.format(dtype_str, out_type.__name__, mi, ma))\n"
     ]
    }
   ],
   "source": [
    "from warp import *\n",
    "%reload_ext autoreload\n",
    "%autoreload 2\n",
    "filename = \"/home/johnyi/deeplearning/research/VSR_Datasets/test/vid4/calendar/001.png\"\n",
    "img = scipy.misc.imread(filename, mode = \"RGB\")\n",
    "img2 = np.expand_dims(img, axis = 0)\n",
    "img3 = np.concatenate([img2, img2], axis = 0)\n",
    "#print(img3.shape)\n",
    "#print(img.shape)\n",
    "num_batch = 1\n",
    "mappings = np.zeros([num_batch,img.shape[0], img.shape[1], 2])\n",
    "for i in range(0, num_batch):\n",
    "    for j in range(0, img.shape[0]):\n",
    "        for k in range(0, img.shape[1]):\n",
    "            #mappings[i,j,k] = [2.0*j/(img.shape[0]-1) -1 , 2.0*k/(img.shape[1]-1)-1]\n",
    "            mappings[i,j,k] = [0,1]\n",
    "            \n",
    "mappings_x = np.zeros([num_batch,img.shape[0], img.shape[1], 1])\n",
    "mappings_y = np.zeros([num_batch,img.shape[0], img.shape[1], 1])\n",
    "for i in range(0, num_batch):\n",
    "    for j in range(0, img.shape[0]):\n",
    "        for k in range(0, img.shape[1]):\n",
    "            mappings_x[i,j,k] = 2.0*j/(img.shape[0]-1) -1\n",
    "            mappings_y[i,j,k] = 2.0*k/(img.shape[1]-1) -1\n",
    "            \n",
    "#transformed, index, base, x0, y0, coords, x_coords, y_coords = batch_warp2d(img2, mappings)\n",
    "transformed, index, base, x0, y0, x_coords, y_coords = batch_warp2d_2_test(img2, mappings_x, mappings_y)\n",
    "sess = tf.Session()\n",
    "init_op = tf.global_variables_initializer()\n",
    "sess.run(init_op)\n",
    "x = transformed.eval(session=sess)\n",
    "y = index.eval(session = sess)\n",
    "z = base.eval(session = sess)\n",
    "w = x0.eval(session = sess)\n",
    "ww = y0.eval(session = sess)\n",
    "#u = coords.eval(session = sess)\n",
    "v = x_coords.eval(session = sess)\n",
    "t = y_coords.eval(session = sess)\n",
    "print('output:',x[0].shape)\n",
    "#y = np.reshape(y,[576,720])\n",
    "print('sampled index:',y)\n",
    "print('base:',z) #base는 결국 1차원 array 안에서 어느 index를 뽑을지임! 즉, batch_index*H*W가 쭉 반복되는 형태.\n",
    "print('x0:',w, w.shape, 'y0:',ww, ww.shape)\n",
    "#print('coords shape:',u.shape)\n",
    "#print(u[0,:,0], u[0,:,1], u[0,:,2])\n",
    "#print('coords:',u)\n",
    "print('x_coords:', v, np.sum(np.reshape(mappings_x, [-1])-v))\n",
    "print('y_coords:', t)\n",
    "#print(x.shape)\n",
    "#print(x[0].dtype)\n",
    "print(np.sum(x[0]-img))\n",
    "#print(x[0][0,0,:])\n",
    "#print(img[0,0,:])\n",
    "#for i in range(0, img.shape[0]):\n",
    "#    for j in range(0, img.shape[1]):\n",
    "#        if img[i,j,0] == x[0][0,0,0] and img[i,j,1] == x[0][0,0,1] and img[i,j,2] == x[0][0,0,2]:\n",
    "#            print(\"match!\",i,j)\n",
    "imageio.imwrite(\"original.png\", img)\n",
    "imageio.imwrite(\"warped1.png\", x[0])\n",
    "#imageio.imwrite(\"warped2.png\", x[1])"
   ]
  },
  {
   "cell_type": "code",
   "execution_count": 75,
   "metadata": {},
   "outputs": [
    {
     "name": "stderr",
     "output_type": "stream",
     "text": [
      "/usr/local/lib/python3.5/dist-packages/ipykernel_launcher.py:4: DeprecationWarning: `imread` is deprecated!\n",
      "`imread` is deprecated in SciPy 1.0.0, and will be removed in 1.2.0.\n",
      "Use ``imageio.imread`` instead.\n",
      "  after removing the cwd from sys.path.\n"
     ]
    },
    {
     "name": "stdout",
     "output_type": "stream",
     "text": [
      "(576, 720, 3)\n",
      "(1, 576, 720, 1) (1, 576, 720, 1) (1, 576, 720, 1)\n",
      "runtime: 0.02254486083984375\n",
      "(576, 720, 3)\n"
     ]
    },
    {
     "name": "stderr",
     "output_type": "stream",
     "text": [
      "/home/johnyi/.local/lib/python3.5/site-packages/imageio/core/util.py:104: UserWarning: Conversion from float32 to uint8, range [0.0, 255.0]\n",
      "  'range [{2}, {3}]'.format(dtype_str, out_type.__name__, mi, ma))\n"
     ]
    }
   ],
   "source": [
    "import imageio\n",
    "#filename = \"/home/johnyi/deeplearning/research/SISR_Datasets/train/DIV2K/0001.png\"\n",
    "filename = \"/home/johnyi/deeplearning/research/VSR_Datasets/test/vid4/calendar/001.png\"\n",
    "img = scipy.misc.imread(filename, mode = \"RGB\")\n",
    "img2 = np.expand_dims(img, axis = 0)\n",
    "print(img.shape)\n",
    "\n",
    "indexes_batch = np.zeros([1, img.shape[0], img.shape[1]] ,dtype = 'int32')\n",
    "indexes_x = np.zeros([1, img.shape[0], img.shape[1]] ,dtype = 'int32')\n",
    "indexes_y = np.zeros([1, img.shape[0], img.shape[1]] ,dtype = 'int32')\n",
    "for i in range(0, 1):\n",
    "    for j in range(0, img.shape[0]):\n",
    "        for k in range(0, img.shape[1]):\n",
    "            indexes_batch[i,j,k] = i\n",
    "            indexes_x[i,j,k] = j\n",
    "            indexes_y[i,j,k] = k\n",
    "\n",
    "tf.reset_default_graph()\n",
    "in_img = tf.placeholder(tf.float32, [1, img.shape[0], img.shape[1], 3], name='input_t0') \n",
    "base_batch = tf.Variable(indexes_batch, name = 'flow_batch')\n",
    "base_x = tf.Variable(indexes_x, name = 'flow_x')\n",
    "base_y = tf.Variable(indexes_y, name = 'flow_y')\n",
    "\n",
    "flow_x = tf.multiply(tf.ones_like(base_x, dtype = tf.int32),20)\n",
    "flow_y = tf.multiply(tf.ones_like(base_y, dtype = tf.int32),20)\n",
    "base_x = tf.add(base_x, flow_x)\n",
    "base_x = tf.clip_by_value(base_x, 0, img.shape[0]-1)\n",
    "base_y = tf.add(base_y, flow_y)\n",
    "base_y = tf.clip_by_value(base_y, 0, img.shape[1]-1)\n",
    "\n",
    "base_batch = tf.expand_dims(base_batch, axis =3)\n",
    "base_x = tf.expand_dims(base_x, axis = 3)\n",
    "base_y = tf.expand_dims(base_y, axis = 3)\n",
    "print(base_batch.shape, base_x.shape, base_y.shape)\n",
    "flow = tf.concat([base_batch, base_x, base_y], axis = 3)\n",
    "\n",
    "out_img = tf.gather_nd(in_img, flow)\n",
    "init_op = tf.global_variables_initializer()\n",
    "sess = tf.Session()\n",
    "sess.run(init_op)\n",
    "start_time = time.time()\n",
    "out = sess.run([out_img], feed_dict={in_img: img2})\n",
    "print(\"runtime:\", time.time()-start_time)\n",
    "print(out[0][0].shape)\n",
    "\n",
    "imageio.imwrite(\"original.png\", img)\n",
    "imageio.imwrite(\"gather_nd.png\", out[0][0])\n",
    "#print(np.sum(img-out[0]))"
   ]
  },
  {
   "cell_type": "code",
   "execution_count": 76,
   "metadata": {},
   "outputs": [
    {
     "name": "stdout",
     "output_type": "stream",
     "text": [
      "runtime: 0.004666805267333984\n"
     ]
    }
   ],
   "source": [
    "img2 = np.expand_dims(img, axis = 0)\n",
    "start_time = time.time()\n",
    "out = sess.run([out_img], feed_dict={in_img:img2})\n",
    "print(\"runtime:\", time.time()-start_time)"
   ]
  },
  {
   "cell_type": "code",
   "execution_count": 3,
   "metadata": {},
   "outputs": [
    {
     "name": "stderr",
     "output_type": "stream",
     "text": [
      "/usr/local/lib/python3.5/dist-packages/ipykernel_launcher.py:3: DeprecationWarning: `imread` is deprecated!\n",
      "`imread` is deprecated in SciPy 1.0.0, and will be removed in 1.2.0.\n",
      "Use ``imageio.imread`` instead.\n",
      "  This is separate from the ipykernel package so we can avoid doing imports until\n"
     ]
    },
    {
     "name": "stdout",
     "output_type": "stream",
     "text": [
      "(1404, 2040, 3)\n",
      "(1404, 2040, 2)\n",
      "[1 2]\n",
      "(1404, 2040, 2)\n",
      "(1404, 2040)\n",
      "(1404, 2040)\n",
      "(1404, 2040, 2)\n"
     ]
    },
    {
     "name": "stderr",
     "output_type": "stream",
     "text": [
      "/home/johnyi/.local/lib/python3.5/site-packages/imageio/core/util.py:104: UserWarning: Conversion from float32 to uint8, range [0.0, 254.0]\n",
      "  'range [{2}, {3}]'.format(dtype_str, out_type.__name__, mi, ma))\n"
     ]
    },
    {
     "name": "stdout",
     "output_type": "stream",
     "text": [
      "72657704.0\n"
     ]
    }
   ],
   "source": [
    "import imageio\n",
    "filename = \"/home/johnyi/deeplearning/research/SISR_Datasets/train/DIV2K/0001.png\"\n",
    "img = scipy.misc.imread(filename, mode = \"RGB\")\n",
    "print(img.shape)\n",
    "indexes = np.zeros([img.shape[0], img.shape[1], 2] ,dtype = 'int32')\n",
    "for i in range(0, img.shape[0]):\n",
    "    for j in range(0, img.shape[1]):\n",
    "        indexes[i,j,:] = [i,j]\n",
    "print(indexes.shape)\n",
    "print(indexes[1,2])\n",
    "tf.reset_default_graph()\n",
    "in_img = tf.placeholder(tf.float32, [img.shape[0], img.shape[1], 3], name='input_t0') \n",
    "flow = tf.ones_like(indexes, dtype = tf.int32)\n",
    "flow = tf.add(tf.multiply(flow,100), indexes)\n",
    "print(flow.shape)\n",
    "print(flow[:,:,0].shape)\n",
    "print(flow[:,:,1].shape)\n",
    "flow_x = tf.expand_dims(tf.clip_by_value(flow[:,:,0], 0, img.shape[0]-1), axis = 2)\n",
    "flow_y = tf.expand_dims(tf.clip_by_value(flow[:,:,1], 0, img.shape[1]-1), axis = 2)\n",
    "flow_clipped = tf.concat([flow_x, flow_y], axis = 2)\n",
    "print(flow.shape)\n",
    "out_img = tf.gather_nd(in_img, flow_clipped)\n",
    "out_img2 = tf.gather_nd(in_img, flow)\n",
    "sess = tf.Session()\n",
    "#with sess.as_default():\n",
    "#    xx = out_img.eval(session = sess) \n",
    "#    print(xx.shape)\n",
    "start_time = time.time()\n",
    "out, out2, flow, flow_clipped = sess.run([out_img, out_img2, flow, flow_clipped], feed_dict={in_img:img})\n",
    "print(ru)\n",
    "#print(out[0].shape)\n",
    "#print(flow)\n",
    "#print(flow_clipped)\n",
    "imageio.imwrite(\"original.png\", img)\n",
    "#imageio.imwrite(\"gather_nd.png\", out[0])\n",
    "imageio.imwrite(\"gather_nd.png\", out2)\n",
    "imageio.imwrite(\"gather_nd_clip.png\", out)\n",
    "#print(np.sum(img-out[0]))\n",
    "print(np.sum(out-out2))"
   ]
  },
  {
   "cell_type": "code",
   "execution_count": 2,
   "metadata": {},
   "outputs": [
    {
     "name": "stdout",
     "output_type": "stream",
     "text": [
      "size: (1404, 2040, 3) ,  (1404, 2040, 3) diff: 988722120\n",
      "size: (1848, 2040, 3) ,  (1848, 2040, 3) diff: 1276398469\n",
      "size: (1356, 2040, 3) ,  (1356, 2040, 3) diff: 949072637\n",
      "size: (1344, 2040, 3) ,  (1344, 2040, 3) diff: 767726412\n",
      "size: (2040, 1608, 3) ,  (2040, 1608, 3) diff: 1133335971\n",
      "size: (2040, 1356, 3) ,  (2040, 1356, 3) diff: 882044022\n",
      "size: (1356, 2040, 3) ,  (1356, 2040, 3) diff: 981776399\n",
      "size: (1356, 2040, 3) ,  (1356, 2040, 3) diff: 951578901\n",
      "size: (1524, 2040, 3) ,  (1524, 2040, 3) diff: 1058270059\n"
     ]
    },
    {
     "ename": "NameError",
     "evalue": "name 'rates' is not defined",
     "output_type": "error",
     "traceback": [
      "\u001b[0;31m---------------------------------------------------------------------------\u001b[0m",
      "\u001b[0;31mNameError\u001b[0m                                 Traceback (most recent call last)",
      "\u001b[0;32m<ipython-input-2-3ad2f736d67b>\u001b[0m in \u001b[0;36m<module>\u001b[0;34m()\u001b[0m\n\u001b[1;32m     19\u001b[0m     \u001b[0mimg2\u001b[0m \u001b[0;34m=\u001b[0m \u001b[0mget_imgs_fn\u001b[0m\u001b[0;34m(\u001b[0m\u001b[0mfilename2\u001b[0m\u001b[0;34m)\u001b[0m\u001b[0;34m\u001b[0m\u001b[0m\n\u001b[1;32m     20\u001b[0m     \u001b[0mprint\u001b[0m\u001b[0;34m(\u001b[0m\u001b[0;34m\"size:\"\u001b[0m\u001b[0;34m,\u001b[0m\u001b[0mimg\u001b[0m\u001b[0;34m.\u001b[0m\u001b[0mshape\u001b[0m\u001b[0;34m,\u001b[0m\u001b[0;34m\", \"\u001b[0m\u001b[0;34m,\u001b[0m\u001b[0mimg2\u001b[0m\u001b[0;34m.\u001b[0m\u001b[0mshape\u001b[0m\u001b[0;34m,\u001b[0m\u001b[0;34m\"diff:\"\u001b[0m\u001b[0;34m,\u001b[0m\u001b[0mnp\u001b[0m\u001b[0;34m.\u001b[0m\u001b[0msum\u001b[0m\u001b[0;34m(\u001b[0m\u001b[0mimg\u001b[0m\u001b[0;34m-\u001b[0m\u001b[0mimg2\u001b[0m\u001b[0;34m)\u001b[0m\u001b[0;34m)\u001b[0m\u001b[0;34m\u001b[0m\u001b[0m\n\u001b[0;32m---> 21\u001b[0;31m \u001b[0mprint\u001b[0m\u001b[0;34m(\u001b[0m\u001b[0;34m\"total:\"\u001b[0m\u001b[0;34m,\u001b[0m\u001b[0mlen\u001b[0m\u001b[0;34m(\u001b[0m\u001b[0mrates\u001b[0m\u001b[0;34m)\u001b[0m\u001b[0;34m,\u001b[0m\u001b[0;34m\", avg:\"\u001b[0m\u001b[0;34m,\u001b[0m\u001b[0mnp\u001b[0m\u001b[0;34m.\u001b[0m\u001b[0mmean\u001b[0m\u001b[0;34m(\u001b[0m\u001b[0mpng_rates\u001b[0m\u001b[0;34m)\u001b[0m\u001b[0;34m,\u001b[0m\u001b[0;34m\", std:\"\u001b[0m\u001b[0;34m,\u001b[0m\u001b[0mnp\u001b[0m\u001b[0;34m.\u001b[0m\u001b[0mstd\u001b[0m\u001b[0;34m(\u001b[0m\u001b[0mpng_rates\u001b[0m\u001b[0;34m)\u001b[0m\u001b[0;34m)\u001b[0m\u001b[0;34m\u001b[0m\u001b[0m\n\u001b[0m",
      "\u001b[0;31mNameError\u001b[0m: name 'rates' is not defined"
     ]
    }
   ],
   "source": [
    "###======================= TEST =============================###\n",
    "png_rates = []\n",
    "for i in range(9):\n",
    "    if i < 9:\n",
    "        filename = \"/home/johnyi/deeplearning/research/DIV2K/DIV2K_train_HR/000\"+str(i+1)+\".png\"\n",
    "    elif i < 99:\n",
    "        filename = \"/home/johnyi/deeplearning/research/DIV2K/DIV2K_train_HR/00\"+str(i+1)+\".png\"\n",
    "    else:\n",
    "        filename = \"/home/johnyi/deeplearning/research/DIV2K/DIV2K_train_HR/0\"+str(i+1)+\".png\"\n",
    "    img = get_imgs_fn(filename)\n",
    "    raw_size = img.shape[0]*img.shape[1]*img.shape[2]/(1024*1024)\n",
    "    png_size = os.path.getsize(filename)/(1024*1024)\n",
    "    #print(\"img #\",str(i+1),\" raw:\",raw_size,\"Mb, png:\",png_size,\"Mb\")\n",
    "    compression_rate = png_size/raw_size\n",
    "    #print(\"img #\",str(i+1),\" raw:\",raw_size,\"Mb, png:\",png_size,\"Mb, compression ratio:\",compression_rate)\n",
    "    png_rates.append(compression_rate)\n",
    "    imageio.imwrite('/home/johnyi/test/'+str(i+1)+'.jpeg', img)\n",
    "    filename2 = '/home/johnyi/test/'+str(i+1)+'.jpeg'\n",
    "    img2 = get_imgs_fn(filename2)\n",
    "    print(\"size:\",img.shape,\", \",img2.shape,\"diff:\",np.sum(img-img2))\n",
    "print(\"total:\",len(rates),\", avg:\",np.mean(png_rates),\", std:\",np.std(png_rates))"
   ]
  },
  {
   "cell_type": "code",
   "execution_count": 18,
   "metadata": {},
   "outputs": [
    {
     "name": "stderr",
     "output_type": "stream",
     "text": [
      "/usr/local/lib/python3.5/dist-packages/ipykernel_launcher.py:16: DeprecationWarning: `imresize` is deprecated!\n",
      "`imresize` is deprecated in SciPy 1.0.0, and will be removed in 1.2.0.\n",
      "Use ``skimage.transform.resize`` instead.\n",
      "  app.launch_new_instance()\n"
     ]
    },
    {
     "name": "stdout",
     "output_type": "stream",
     "text": [
      "Image  1 , HR:  (1404, 2040, 3) , LR:  (702, 1020, 3)\n",
      "diff: 56403253\n",
      "Image  2 , HR:  (1848, 2040, 3) , LR:  (924, 1020, 3)\n",
      "diff: 74082850\n",
      "Image  3 , HR:  (1356, 2040, 3) , LR:  (678, 1020, 3)\n",
      "diff: 54710959\n",
      "Image  4 , HR:  (1344, 2040, 3) , LR:  (672, 1020, 3)\n",
      "diff: 48104983\n",
      "Image  5 , HR:  (2040, 1608, 3) , LR:  (1020, 804, 3)\n",
      "diff: 66534107\n"
     ]
    }
   ],
   "source": [
    "from scipy.misc import imresize\n",
    "from skimage.transform import resize\n",
    "\n",
    "#공개된 테스트셋은 scipy.misc.resize의 결과와 같음.\n",
    "#skimage의 resize는 뭔가 다름...aliasing 옵션인 것 같기도...\n",
    "#http://scikit-image.org/docs/dev/auto_examples/transform/plot_rescale.html\n",
    "\n",
    "for i in range(5):\n",
    "    if i < 9:\n",
    "        filename = \"/home/johnyi/deeplearning/research/DIV2K/DIV2K_train_HR/000\"+str(i+1)+\".png\"\n",
    "        filename2 = \"/home/johnyi/deeplearning/research/DIV2K/DIV2K_train_LR_bicubic/X2/000\"+str(i+1)+\"x2.png\"\n",
    "    elif i < 99:\n",
    "        filename = \"/home/johnyi/deeplearning/research/DIV2K/DIV2K_train_HR/00\"+str(i+1)+\".png\"\n",
    "        filename2 = \"/home/johnyi/deeplearning/research/DIV2K/DIV2K_train_LR_bicubic/X2/00\"+str(i+1)+\"x2.png\"\n",
    "    else:\n",
    "        filename = \"/home/johnyi/deeplearning/research/DIV2K/DIV2K_train_HR/0\"+str(i+1)+\".png\"\n",
    "        filename2 = \"/home/johnyi/deeplearning/research/DIV2K/DIV2K_train_LR_bicubic/X2/0\"+str(i+1)+\"x2.png\"\n",
    "    img = get_imgs_fn(filename)\n",
    "    img2 = get_imgs_fn(filename2)\n",
    "    #img_LR = resize(img, (img2.shape[0], img2.shape[1]))\n",
    "    img_LR2 = imresize(img, (img2.shape[0], img2.shape[1]), interp='bicubic')\n",
    "    imageio.imwrite('./testset.png', img2)\n",
    "    #imageio.imwrite('./2.png', img_LR)\n",
    "    imageio.imwrite('./mine.png', img_LR2)\n",
    "    print(\"Image \",str(i+1),\", HR: \",img.shape,\", LR: \",img2.shape)\n",
    "    #print(\"diff:\",np.sum(img_LR-img_LR2))\n",
    "    #print(\"diff:\",np.sum(img2-img_LR))\n",
    "    print(\"diff:\",np.sum(img2-img_LR2))"
   ]
  },
  {
   "cell_type": "code",
   "execution_count": 2,
   "metadata": {},
   "outputs": [
    {
     "name": "stderr",
     "output_type": "stream",
     "text": [
      "/usr/local/lib/python3.5/dist-packages/ipykernel_launcher.py:21: DeprecationWarning: `imresize` is deprecated!\n",
      "`imresize` is deprecated in SciPy 1.0.0, and will be removed in 1.2.0.\n",
      "Use ``skimage.transform.resize`` instead.\n",
      "/usr/local/lib/python3.5/dist-packages/ipykernel_launcher.py:22: DeprecationWarning: `imresize` is deprecated!\n",
      "`imresize` is deprecated in SciPy 1.0.0, and will be removed in 1.2.0.\n",
      "Use ``skimage.transform.resize`` instead.\n",
      "/usr/local/lib/python3.5/dist-packages/ipykernel_launcher.py:23: DeprecationWarning: `imresize` is deprecated!\n",
      "`imresize` is deprecated in SciPy 1.0.0, and will be removed in 1.2.0.\n",
      "Use ``skimage.transform.resize`` instead.\n",
      "/usr/local/lib/python3.5/dist-packages/ipykernel_launcher.py:24: DeprecationWarning: `imresize` is deprecated!\n",
      "`imresize` is deprecated in SciPy 1.0.0, and will be removed in 1.2.0.\n",
      "Use ``skimage.transform.resize`` instead.\n"
     ]
    },
    {
     "name": "stdout",
     "output_type": "stream",
     "text": [
      "PSNR: 100 , 36.217353355738375 , 31.928384330834323\n",
      "1\n",
      "PSNR: 100 , 32.36800714737163 , 31.517645112256197\n",
      "2\n",
      "PSNR: 100 , 32.21646970246458 , 30.772894358598954\n",
      "3\n",
      "PSNR: 100 , 37.37684917428198 , 35.83713181529359\n",
      "4\n",
      "PSNR: 100 , 33.11120441626228 , 30.743111864786336\n",
      "5\n",
      "5\n",
      "(1848, 2040, 3)\n"
     ]
    }
   ],
   "source": [
    "from scipy.misc import imresize\n",
    "#from skimage.transform import resize\n",
    "import numpy as np\n",
    "from utils import *\n",
    "\n",
    "#공개된 테스트셋은 scipy.misc.resize의 결과와 같음.\n",
    "#skimage의 resize는 뭔가 다름...aliasing 옵션인 것 같기도...\n",
    "#http://scikit-image.org/docs/dev/auto_examples/transform/plot_rescale.html\n",
    "imdb = []\n",
    "for i in range(5):\n",
    "    if i < 9:\n",
    "        filename = \"/home/johnyi/deeplearning/research/DIV2K/DIV2K_train_HR/000\"+str(i+1)+\".png\"\n",
    "        filename2 = \"/home/johnyi/deeplearning/research/DIV2K/DIV2K_train_LR_bicubic/X2/000\"+str(i+1)+\"x2.png\"\n",
    "    elif i < 99:\n",
    "        filename = \"/home/johnyi/deeplearning/research/DIV2K/DIV2K_train_HR/00\"+str(i+1)+\".png\"\n",
    "        filename2 = \"/home/johnyi/deeplearning/research/DIV2K/DIV2K_train_LR_bicubic/X2/00\"+str(i+1)+\"x2.png\"\n",
    "    else:\n",
    "        filename = \"/home/johnyi/deeplearning/research/DIV2K/DIV2K_train_HR/0\"+str(i+1)+\".png\"\n",
    "        filename2 = \"/home/johnyi/deeplearning/research/DIV2K/DIV2K_train_LR_bicubic/X2/0\"+str(i+1)+\"x2.png\"\n",
    "    img = get_imgs_fn(filename)\n",
    "    img_LR1 = imresize(img, (int(img.shape[0]/2), int(img.shape[1]/2)), interp='bicubic')\n",
    "    img_HR1 = imresize(img_LR1, (img.shape[0], img.shape[1]), interp='bicubic')\n",
    "    img_LR2 = imresize(img, (int(img.shape[0]/4), int(img.shape[1]/4)), interp='bicubic')\n",
    "    img_HR2 = imresize(img_LR2, (img.shape[0], img.shape[1]), interp='bicubic')\n",
    "    PSNR = calc_PSNR(img,img)\n",
    "    PSNR1 = calc_PSNR(img,img_HR1)\n",
    "    PSNR2 = calc_PSNR(img,img_HR2)\n",
    "    print(\"PSNR:\",PSNR,\",\",PSNR1,\",\",PSNR2 )\n",
    "    imdb.append(img)\n",
    "    print(len(imdb))\n",
    "print(len(imdb))\n",
    "print(imdb[1].shape)"
   ]
  },
  {
   "cell_type": "code",
   "execution_count": 39,
   "metadata": {},
   "outputs": [],
   "source": [
    "def get_batch(imdb, start, batch_size, patch_size):\n",
    "    img_batch = np.zeros([batch_size, patch_size, patch_size, 3])\n",
    "    for i in range(batch_size):\n",
    "        img_index = 0\n",
    "        H = 0\n",
    "        W = 0\n",
    "        img_index = (start+i)%len(imdb)\n",
    "        H = np.random.randint(imdb[img_index].shape[0]-patch_size)\n",
    "        W = np.random.randint(imdb[img_index].shape[1]-patch_size)\n",
    "        print(\"img index:\",img_index,\", img shape:\",imdb[img_index].shape[0],'',imdb[img_index].shape[1],\"H,W:\",[H,W])\n",
    "        img_batch[i,:,:,:] = imdb[img_index][H:H+patch_size, W:W+patch_size,:]\n",
    "    return img_batch"
   ]
  },
  {
   "cell_type": "code",
   "execution_count": 45,
   "metadata": {},
   "outputs": [
    {
     "name": "stdout",
     "output_type": "stream",
     "text": [
      "img index: 4 , img shape: 2040  1608 H,W: [1021, 1273]\n",
      "img index: 0 , img shape: 1404  2040 H,W: [640, 1417]\n",
      "(2, 128, 128, 3)\n"
     ]
    },
    {
     "name": "stderr",
     "output_type": "stream",
     "text": [
      "/home/johnyi/.local/lib/python3.5/site-packages/imageio/core/util.py:104: UserWarning: Conversion from float64 to uint8, range [0.0, 240.0]\n",
      "  'range [{2}, {3}]'.format(dtype_str, out_type.__name__, mi, ma))\n",
      "/home/johnyi/.local/lib/python3.5/site-packages/imageio/core/util.py:104: UserWarning: Conversion from float64 to uint8, range [0.0, 198.0]\n",
      "  'range [{2}, {3}]'.format(dtype_str, out_type.__name__, mi, ma))\n"
     ]
    }
   ],
   "source": [
    "x = get_batch(imdb, 4, 2, 128)\n",
    "print(x.shape)\n",
    "imageio.imwrite('./testset1.png', x[0])\n",
    "imageio.imwrite('./testset2.png', x[1])"
   ]
  },
  {
   "cell_type": "code",
   "execution_count": 4,
   "metadata": {},
   "outputs": [
    {
     "name": "stderr",
     "output_type": "stream",
     "text": [
      "/usr/local/lib/python3.5/dist-packages/ipykernel_launcher.py:42: DeprecationWarning: `imread` is deprecated!\n",
      "`imread` is deprecated in SciPy 1.0.0, and will be removed in 1.2.0.\n",
      "Use ``imageio.imread`` instead.\n",
      "/usr/local/lib/python3.5/dist-packages/ipykernel_launcher.py:43: DeprecationWarning: `imread` is deprecated!\n",
      "`imread` is deprecated in SciPy 1.0.0, and will be removed in 1.2.0.\n",
      "Use ``imageio.imread`` instead.\n",
      "/usr/local/lib/python3.5/dist-packages/ipykernel_launcher.py:64: DeprecationWarning: `imread` is deprecated!\n",
      "`imread` is deprecated in SciPy 1.0.0, and will be removed in 1.2.0.\n",
      "Use ``imageio.imread`` instead.\n",
      "/usr/local/lib/python3.5/dist-packages/ipykernel_launcher.py:65: DeprecationWarning: `imread` is deprecated!\n",
      "`imread` is deprecated in SciPy 1.0.0, and will be removed in 1.2.0.\n",
      "Use ``imageio.imread`` instead.\n"
     ]
    },
    {
     "name": "stdout",
     "output_type": "stream",
     "text": [
      "199674735\n"
     ]
    }
   ],
   "source": [
    "import cv2\n",
    "import matplotlib.pyplot as plt\n",
    "import numpy as np\n",
    "import imageio\n",
    "from scipy.misc import imresize, imread\n",
    "import scipy\n",
    "#im = cv2.cvtColor(bgr, cv2.COLOR_BGR2YCR_CB)\n",
    "def rgb2ycbcr(im):\n",
    "    xform = np.array([[.299, .587, .114], [-.1687, -.3313, .5], [.5, -.4187, -.0813]])\n",
    "    ycbcr = im.dot(xform.T)\n",
    "    ycbcr[:,:,[1,2]] += 128\n",
    "    return np.uint8(ycbcr)\n",
    "\n",
    "def ycbcr2rgb(im):\n",
    "    xform = np.array([[1, 0, 1.402], [1, -0.34414, -.71414], [1, 1.772, 0]])\n",
    "    rgb = im.astype(np.float)\n",
    "    rgb[:,:,[1,2]] -= 128\n",
    "    return np.uint8(rgb.dot(xform.T))\n",
    "\n",
    "def ycbcr2rgb2(im):\n",
    "    xform = np.array([[1, 0, 1.402], [1, -0.34414, -.71414], [1, 1.772, 0]])\n",
    "    rgb = im.astype(np.float)\n",
    "    rgb[:,:,[1,2]] -= 128\n",
    "    rgb = rgb.dot(xform.T)\n",
    "    np.putmask(rgb, rgb > 255, 255)\n",
    "    np.putmask(rgb, rgb < 0, 0)\n",
    "    return np.uint8(rgb)\n",
    "\n",
    "#http://www.pythonexample.com/code/rgb-to-yuv-conversion-formula/\n",
    "def YUV2RGB( yuv ):\n",
    "    m = np.array([[ 1.0, 1.0, 1.0],\n",
    "                 [-0.000007154783816076815, -0.3441331386566162, 1.7720025777816772],\n",
    "                 [ 1.4019975662231445, -0.7141380310058594 , 0.00001542569043522235] ])\n",
    "     \n",
    "    rgb = np.dot(yuv,m)\n",
    "    rgb[:,:,0]-=179.45477266423404\n",
    "    rgb[:,:,1]+=135.45870971679688\n",
    "    rgb[:,:,2]-=226.8183044444304\n",
    "    return rgb\n",
    "\n",
    "filename = \"/home/johnyi/deeplearning/research/DIV2K/DIV2K_train_HR/0032.png\" #12\n",
    "img_rgb = scipy.misc.imread(filename, mode='RGB')\n",
    "img_ycbcr = scipy.misc.imread(filename, mode='YCbCr')\n",
    "'''\n",
    "#imageio.imwrite('./original.png', img_rgb)\n",
    "#imageio.imwrite('./converted.png', img_ycbcr)\n",
    "#img_ycbcr2 = rgb2ycbcr(img_rgb)\n",
    "img_rgb2 = ycbcr2rgb(img_ycbcr)\n",
    "img_rgb3 = ycbcr2rgb2(img_ycbcr)\n",
    "img_rgb4 = YUV2RGB(img_ycbcr)\n",
    "#img_ycbcr2 = cv2.cvtColor(img_rgb, cv2.COLOR_BGR2YCR_CB)\n",
    "#img_rgb3 = cv2.cvtColor(img_ycbcr, cv2.COLOR_YCR2BGR_CB)\n",
    "#print(np.sum(img_ycbcr-img_ycbcr2))\n",
    "#print(np.sum(img_rgb-img_rgb2))\n",
    "imageio.imwrite('./original.png', img_rgb)\n",
    "imageio.imwrite('./converted1.png', img_rgb2)\n",
    "imageio.imwrite('./converted2.png', img_rgb3)\n",
    "imageio.imwrite('./converted3.png', img_rgb4)\n",
    "print(np.sum(img_rgb-img_rgb2))\n",
    "print(np.sum(img_rgb-img_rgb3))\n",
    "print(np.sum(img_rgb-img_rgb4))\n",
    "'''\n",
    "\n",
    "img_rgb = scipy.misc.imread(filename, mode='RGB')\n",
    "img_ycbcr = scipy.misc.imread(filename, mode='YCbCr')\n",
    "img_ycbcr2 = cv2.cvtColor(img_rgb, cv2.COLOR_RGB2YCrCb)\n",
    "img_rgb2 = cv2.cvtColor(img_ycbcr2, cv2.COLOR_YCrCb2RGB)\n",
    "imageio.imwrite('./original_2.png', img_rgb)\n",
    "imageio.imwrite('./converted1_2.png', img_rgb2)\n",
    "print(np.sum(img_rgb-img_rgb2))"
   ]
  },
  {
   "cell_type": "code",
   "execution_count": 15,
   "metadata": {},
   "outputs": [
    {
     "name": "stdout",
     "output_type": "stream",
     "text": [
      "0\n",
      "PSNR (RGB): 34.27800618726744 31.494733025452632\n",
      "PSNR (Y): 46.96568112963063 34.57830181980665\n",
      "1\n",
      "PSNR (RGB): 32.83822607929322 33.107700291831506\n",
      "PSNR (Y): 39.55318870128834 39.42467263709421\n",
      "2\n",
      "PSNR (RGB): 30.674152817260687 30.98510846355081\n",
      "PSNR (Y): 41.489960397392956 39.65093315301964\n",
      "3\n",
      "PSNR (RGB): 33.60767265158971 32.893643081645\n",
      "PSNR (Y): 40.41646133459976 37.980275511698345\n",
      "4\n",
      "PSNR (RGB): 32.54961541592668 31.833087933135403\n",
      "PSNR (Y): 47.77984207609764 36.108165766512464\n"
     ]
    },
    {
     "name": "stderr",
     "output_type": "stream",
     "text": [
      "/usr/local/lib/python3.5/dist-packages/ipykernel_launcher.py:19: DeprecationWarning: `imread` is deprecated!\n",
      "`imread` is deprecated in SciPy 1.0.0, and will be removed in 1.2.0.\n",
      "Use ``imageio.imread`` instead.\n",
      "/usr/local/lib/python3.5/dist-packages/ipykernel_launcher.py:21: DeprecationWarning: `imread` is deprecated!\n",
      "`imread` is deprecated in SciPy 1.0.0, and will be removed in 1.2.0.\n",
      "Use ``imageio.imread`` instead.\n",
      "/usr/local/lib/python3.5/dist-packages/ipykernel_launcher.py:23: DeprecationWarning: `imread` is deprecated!\n",
      "`imread` is deprecated in SciPy 1.0.0, and will be removed in 1.2.0.\n",
      "Use ``imageio.imread`` instead.\n"
     ]
    }
   ],
   "source": [
    "import cv2\n",
    "import matplotlib.pyplot as plt\n",
    "import numpy as np\n",
    "import imageio\n",
    "from scipy.misc import imresize, imread\n",
    "import scipy\n",
    "\n",
    "def calc_PSNR(img1, img2):\n",
    "    mse = np.mean( (img1 - img2) ** 2 )\n",
    "    if mse == 0:\n",
    "        return 100\n",
    "    return 20 * np.log10(255.0 / np.sqrt(mse))\n",
    "\n",
    "for i in range(0,5):\n",
    "    print(i)\n",
    "    filename1 = \"/home/johnyi/deeplearning/research/CVPR16-ESPCN-TF/samples/Set5/original_\"+str(i)+\".png\"\n",
    "    filename2 = \"/home/johnyi/deeplearning/research/CVPR16-ESPCN-TF/samples/Set5/bicubic_\"+str(i)+\".png\"\n",
    "    filename3 = \"/home/johnyi/deeplearning/research/CVPR16-ESPCN-TF/samples/Set5/HR_\"+str(i)+\".png\"\n",
    "    original = scipy.misc.imread(filename1, mode='RGB')\n",
    "    original_ycbcr = cv2.cvtColor(original, cv2.COLOR_RGB2YCrCb)\n",
    "    bicubic = scipy.misc.imread(filename2, mode='RGB')\n",
    "    bicubic_ycbcr = cv2.cvtColor(bicubic, cv2.COLOR_RGB2YCrCb)\n",
    "    HR = scipy.misc.imread(filename3, mode='RGB')\n",
    "    HR_ycbcr = cv2.cvtColor(HR, cv2.COLOR_RGB2YCrCb)\n",
    "\n",
    "    PSNR1 = calc_PSNR(original, bicubic)\n",
    "    PSNR2 = calc_PSNR(original, HR)\n",
    "    print(\"PSNR (RGB):\",PSNR1,PSNR2)\n",
    "    x = 1\n",
    "    PSNR1 = calc_PSNR(original_ycbcr[:,:,x], bicubic_ycbcr[:,:,x])\n",
    "    PSNR2 = calc_PSNR(original_ycbcr[:,:,x], HR_ycbcr[:,:,x])\n",
    "    print(\"PSNR (Y):\",PSNR1,PSNR2)"
   ]
  },
  {
   "cell_type": "code",
   "execution_count": 1,
   "metadata": {},
   "outputs": [
    {
     "name": "stdout",
     "output_type": "stream",
     "text": [
      "(1, 192, 240, 3, 3) (1, 576, 720, 3)\n",
      "uint8\n",
      "0\n",
      "(576, 720, 3)\n",
      "100264448\n",
      "100264448\n"
     ]
    },
    {
     "name": "stderr",
     "output_type": "stream",
     "text": [
      "/usr/local/lib/python3.5/dist-packages/ipykernel_launcher.py:34: DeprecationWarning: `imread` is deprecated!\n",
      "`imread` is deprecated in SciPy 1.0.0, and will be removed in 1.2.0.\n",
      "Use ``imageio.imread`` instead.\n"
     ]
    }
   ],
   "source": [
    "import scipy.misc\n",
    "import numpy as np\n",
    "import cv2\n",
    "import imageio\n",
    "from VESPCN_utils import *\n",
    "from utils import *\n",
    "\n",
    "%reload_ext autoreload\n",
    "%autoreload 2\n",
    "'''\n",
    "filename1 = \"/home/johnyi/Downloads/001.png\"\n",
    "filename2 = \"/home/johnyi/Downloads/original_0_x3.png\"\n",
    "    \n",
    "img1 = scipy.misc.imread(filename1, mode='RGB')\n",
    "img2 = scipy.misc.imread(filename2, mode='RGB')\n",
    "print(np.sum(img1-img2))\n",
    "\n",
    "img3 = scipy.misc.imread(filename2, mode='YCbCr')\n",
    "Y = np.split(img3, 3, axis=2)[0]\n",
    "Cb = np.split(img3, 3, axis=2)[1]\n",
    "Cr = np.split(img3, 3, axis=2)[2]\n",
    "img_ycbcr = np.dstack((Y, Cr, Cb))\n",
    "img_rgb = cv2.cvtColor(img_ycbcr, cv2.COLOR_YCrCb2RGB)\n",
    "imageio.imwrite(\"/home/johnyi/Downloads/out.png\", img_rgb)\n",
    "\n",
    "filename3 = \"/home/johnyi/Downloads/out.png\"\n",
    "img4 = scipy.misc.imread(filename3, mode='RGB')\n",
    "print(np.sum(img1-img4))\n",
    "'''\n",
    "_, batch_LR, batch_HR = get_testbatch_VSR(\"calendar\", 3, 0, 1, 3, \"YCbCr\")\n",
    "print(batch_LR.shape, batch_HR.shape)\n",
    "\n",
    "filename1 = \"/home/johnyi/Downloads/001.png\"\n",
    "img1 = scipy.misc.imread(filename1, mode='YCbCr')\n",
    "print(img1.dtype)\n",
    "\n",
    "print(np.sum(img1-np.squeeze(batch_HR)))\n",
    "\n",
    "HR_temp =  np.copy(batch_HR)\n",
    "batch_HR_Y = np.split(HR_temp, 3, axis=3)[0]\n",
    "batch_HR_Cb = np.split(HR_temp, 3, axis=3)[1]\n",
    "batch_HR_Cr = np.split(HR_temp, 3, axis=3)[2]\n",
    "img_ycbcr = np.dstack((batch_HR_Y[0,:,:,:] , batch_HR_Cr[0,:,:,:], batch_HR_Cb[0,:,:,:]))\n",
    "img_ycbcr = img_ycbcr#.astype('uint8')\n",
    "print(img_ycbcr.shape)\n",
    "print(np.sum(img_ycbcr-np.squeeze(batch_HR)))\n",
    "print(np.sum(img_ycbcr-img1))\n",
    "img_rgb = cv2.cvtColor(img_ycbcr, cv2.COLOR_YCrCb2RGB)\n",
    "path = \"./xx_\"+str(0)+\"_x\"+str(3)+\".png\"\n",
    "imageio.imwrite(path, img_rgb)\n",
    "#print(batch_HR_Y[0,:,:,:].shape, batch_HR_Cb[0,:,:,:].shape)\n",
    "#save_ycbcr_img(batch_HR_Y[0,:,:,:], batch_HR_Cb[0,:,:,:], batch_HR_Cr[0,:,:,:], 1, path)"
   ]
  },
  {
   "cell_type": "code",
   "execution_count": null,
   "metadata": {},
   "outputs": [],
   "source": []
  }
 ],
 "metadata": {
  "kernelspec": {
   "display_name": "Python 3",
   "language": "python",
   "name": "python3"
  },
  "language_info": {
   "codemirror_mode": {
    "name": "ipython",
    "version": 3
   },
   "file_extension": ".py",
   "mimetype": "text/x-python",
   "name": "python",
   "nbconvert_exporter": "python",
   "pygments_lexer": "ipython3",
   "version": "3.5.2"
  }
 },
 "nbformat": 4,
 "nbformat_minor": 1
}
